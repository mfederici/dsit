{
 "cells": [
  {
   "cell_type": "code",
   "execution_count": 1,
   "metadata": {},
   "outputs": [
    {
     "name": "stdout",
     "output_type": "stream",
     "text": [
      "Populating the interactive namespace from numpy and matplotlib\n"
     ]
    }
   ],
   "source": [
    "%pylab inline\n",
    "import pandas as pd\n",
    "\n",
    "import torch\n",
    "import torch.nn as nn\n",
    "\n",
    "from datasets.cmnist import make_joint_distribution\n",
    "from utils.distribution import DiscreteDistribution, compute_ce, compute_kl\n",
    "from models.training import train\n",
    "from models.encoders import DiscreteEncoder\n",
    "\n",
    "from models.criteria import InformationBottleneckCriterion, IndependenceCriterion, SufficiencyCriterion, SeparationCriterion"
   ]
  },
  {
   "cell_type": "markdown",
   "metadata": {},
   "source": [
    "# Data distribution"
   ]
  },
  {
   "cell_type": "markdown",
   "metadata": {},
   "source": [
    "We will use the y-CMNIST data distribution as an example in this notebook, which defines a joint distribution of digits $d$, color $c$, pictures $x$, environments $e$, labels $y$ and selection $t$.\n",
    "The binary selection variable $t$ indicates if the data is selected for training $t=1$ or not $t=0$."
   ]
  },
  {
   "cell_type": "code",
   "execution_count": 2,
   "metadata": {},
   "outputs": [
    {
     "name": "stdout",
     "output_type": "stream",
     "text": [
      "Joint distribution: p(y,e,d,x,c,t)\n"
     ]
    }
   ],
   "source": [
    "# Create the joint distribution for y-CMNIST (CMNIST or d-CMNIST are also available)\n",
    "dist = make_joint_distribution('y-CMNIST')\n",
    "\n",
    "print('Joint distribution: %s' %dist)"
   ]
  },
  {
   "cell_type": "markdown",
   "metadata": {},
   "source": [
    "The joint distribution factorizes as $p(y,e,d,x,c,t) = p(y|d)p(e)p(d)p(c|y,e)p(x|c,d)p(t|e)$.\n",
    "Train and test distributions are created by conditioning on $t=1$ and $t=0$, respectively."
   ]
  },
  {
   "cell_type": "code",
   "execution_count": 3,
   "metadata": {},
   "outputs": [
    {
     "name": "stdout",
     "output_type": "stream",
     "text": [
      "Train distribution: p(y,e,d,x,c|t=1)\n",
      "Test distribution: p(y,e,d,x,c|t=0)\n"
     ]
    }
   ],
   "source": [
    "# Create the training distribution by selecting t=1 and marginalizing d and c\n",
    "train_dist = dist.condition_on('t',1)\n",
    "\n",
    "# Create the test distribution by selecting t=0 and marginalizing d, c and e\n",
    "test_dist = dist.condition_on('t',0)\n",
    "\n",
    "print('Train distribution: %s' %train_dist)\n",
    "print('Test distribution: %s' %test_dist)"
   ]
  },
  {
   "cell_type": "markdown",
   "metadata": {},
   "source": [
    "We can describe how distant the train and test distributions are by computing $I(xy;t)$, which represents how much information the selection carries about the joint distribution of raw features (pictures $s$) and targets (labels $y$). The distribution shift can be seen as the joint effect of covariate shift $I(t;x)$ and concept shift $I(y;t|x)$:\n",
    "\n",
    "$$\\underbrace{I(xy;t)}_{\\text{distribution shift}} = \\underbrace{I(x;t)}_{\\text{covariate shift}} + \\underbrace{I(y;t|x)}_{\\text{concept shift}}$$"
   ]
  },
  {
   "cell_type": "code",
   "execution_count": 4,
   "metadata": {},
   "outputs": [
    {
     "name": "stdout",
     "output_type": "stream",
     "text": [
      "Distribution shift: 0.306607 nats\n",
      "Concept shift: 0.237813 nats\n",
      "Covariate shift: 0.068793 nats\n"
     ]
    }
   ],
   "source": [
    "# Compute the amout of distribution shift I(xy;t)\n",
    "print('Distribution shift: %f nats' %(dist.compute('I(x,y;t)')))\n",
    "\n",
    "# Compute the amout of concept shift I(y;t|x)\n",
    "print('Concept shift: %f nats' %(dist.compute('I(y;t|x)')))\n",
    "\n",
    "# Compute the amout of concept shift I(x;t)\n",
    "print('Covariate shift: %f nats' %(dist.compute('I(x;t)')))"
   ]
  },
  {
   "cell_type": "markdown",
   "metadata": {},
   "source": [
    "Note that the selection $t$ does induce concept shift, therefore a maximum likelihood solution must result in positive OOD error.\n",
    "Given a model $\\hat q(y|x)$ that is optimal on the training distribution $p(y|x,t=1)$ we have:\n",
    "$$ KL(p(y|x,t=0)||\\hat q(y|x))\\ge I(y;t|x) > 0 $$"
   ]
  },
  {
   "cell_type": "code",
   "execution_count": 5,
   "metadata": {},
   "outputs": [
    {
     "name": "stdout",
     "output_type": "stream",
     "text": [
      "q(y|x)=p(y|x,t=1)\n",
      "OOD error: 1.249681 nats\n"
     ]
    }
   ],
   "source": [
    "# Consider a model q(y|x) that matches the train distribution p(y|x,t=1)\n",
    "q_y_x = train_dist.conditional('y','x')\n",
    "print('q(y|x)=%s' % q_y_x)\n",
    "\n",
    "# Compute the OOD error for q(y|x): KL(p(y|x,t=0)||q(y|x))\n",
    "ood_error = compute_kl(test_dist, q_y_x)\n",
    "print('OOD error: %f nats' % ood_error)"
   ]
  },
  {
   "cell_type": "markdown",
   "metadata": {},
   "source": [
    "We visualize train and OOD cross-entropy for models that rely on pictures $x$, color $c$, digit $d$ or prior information."
   ]
  },
  {
   "cell_type": "code",
   "execution_count": 6,
   "metadata": {},
   "outputs": [
    {
     "data": {
      "text/plain": [
       "<matplotlib.legend.Legend at 0x7fce9cf18820>"
      ]
     },
     "execution_count": 6,
     "metadata": {},
     "output_type": "execute_result"
    },
    {
     "data": {
      "image/png": "[encoded data removed]",
      "text/plain": [
       "<Figure size 360x360 with 1 Axes>"
      ]
     },
     "metadata": {
      "needs_background": "light"
     },
     "output_type": "display_data"
    }
   ],
   "source": [
    "# compute and plot train and OOD cross-entropy for models that use picures 'x', color 'c', digit 'd'\n",
    "def plot_default():\n",
    "    f, ax = plt.subplots(1,1,figsize=(5,5))\n",
    "    for variable, label in [('x','picture'),('c','color'),('d','digit')]:\n",
    "        train_ce = compute_ce(train_dist, train_dist.conditional('y', variable))\n",
    "        ood_ce = compute_ce(test_dist, train_dist.conditional('y', variable))\n",
    "        ax.plot(train_ce, ood_ce, marker='X', markersize=10, label=label)\n",
    "\n",
    "\n",
    "    # and prior information\n",
    "    train_ce = compute_ce(train_dist, train_dist.marginal('y'))\n",
    "    ood_ce = compute_ce(test_dist, train_dist.marginal('y'))\n",
    "    ax.plot(train_ce, ood_ce, marker='X', markersize=10, label='prior')\n",
    "\n",
    "    ax.set_xlabel('Train Cross-entropy', fontsize=15)\n",
    "    ax.set_ylabel('OOD Cross-entropy', fontsize=15);\n",
    "    \n",
    "plot_default()\n",
    "plt.legend(fontsize=15)"
   ]
  },
  {
   "cell_type": "markdown",
   "metadata": {},
   "source": [
    "Models that rely on digit information effectively minimize the OOD cross-entropy. \n",
    "\n",
    "As a next step we will consider models that have only access to pictures $x$, targets $y$ and environments $e$ at training time. Each model is composed of an encoder $q(z|x)$ and classifier $\\hat q(y|z)$ that matches the predictive distribution $p(y|z,t=1)$.\n",
    "\n",
    "The goal is to create a representation $z$ that reduces latent concept drift $I(y;t|z)$, in other words, a representation from which the same classifier works well on both splits $t=1$ and $t=0$.\n",
    "This can be done by optimizing the encoders according to different criteria."
   ]
  },
  {
   "cell_type": "markdown",
   "metadata": {},
   "source": [
    "# Model Training\n",
    "\n",
    "Here we explore the effect of training a latent representation using the following criteria:\n",
    "- Information Bottleneck $I(x;z)$\n",
    "- Independence $I(e;z)$\n",
    "- Sufficiency $I(e;y|z)$\n",
    "- Separation $I(e;z|y)$\n",
    "\n",
    "In particular, here we compare the effect of separation and sufficiency on the y-CMNIST data distribution to underline the shortcomings of representation trained by enforcing $I(e;y|z)$ that are quite common in the recent litterature."
   ]
  },
  {
   "cell_type": "markdown",
   "metadata": {},
   "source": [
    "## Separation Criterion"
   ]
  },
  {
   "cell_type": "markdown",
   "metadata": {},
   "source": [
    "We start by defining a learnable encoder parametrized by a matrix $\\bf W$"
   ]
  },
  {
   "cell_type": "code",
   "execution_count": 7,
   "metadata": {},
   "outputs": [
    {
     "data": {
      "text/plain": [
       "<matplotlib.legend.Legend at 0x7fcf1c93ee20>"
      ]
     },
     "execution_count": 7,
     "metadata": {},
     "output_type": "execute_result"
    },
    {
     "data": {
      "image/png": "[encoded data removed]",
      "text/plain": [
       "<Figure size 360x360 with 1 Axes>"
      ]
     },
     "metadata": {
      "needs_background": "light"
     },
     "output_type": "display_data"
    }
   ],
   "source": [
    "# Create an encoder which maps each 'x' into a latent 'z' which consists of 64 different values\n",
    "encoder = DiscreteEncoder(z_dim=64)\n",
    "\n",
    "# Compute the predictive distribution p(y|z,t=1) induced by the encoder\n",
    "q_y_z = encoder(train_dist).conditional('y','z')\n",
    "\n",
    "# Compute and visualize the train and ood cross-entropy for the model with random initialization\n",
    "train_ce = compute_ce(encoder(train_dist),q_y_z).item()\n",
    "ood_ce = compute_ce(encoder(test_dist),q_y_z).item()\n",
    "\n",
    "plot_default()\n",
    "plt.plot(train_ce,ood_ce, 'o', label='random encoder')\n",
    "\n",
    "plt.legend(fontsize=15)"
   ]
  },
  {
   "cell_type": "markdown",
   "metadata": {},
   "source": [
    "Since the encoder is initialized randomly, the representation contains little label information, and the corresponding model performs similarly to a model that does not rely on any input information (red cross):\n",
    "$$p(y|z,t=1)\\approx p(y|t=1)$$ "
   ]
  },
  {
   "cell_type": "markdown",
   "metadata": {},
   "source": [
    "Next, we train the encoder unsing the separation criterion and a strong regularization $\\lambda=10^6$, hoping to enforce the separation constraint $I_{t=1}(e;z|y)=0$, while maximizing the amount of predictive information accessible from $z$ ($I_{t=1}(y;z)$).\n",
    "\n",
    "The resulting objective is in the form:\n",
    "$$\\min_{q(z|x)} -I_{t=1}(y;z) + \\lambda I_{t=1}(e;z|y)$$\n",
    "\n",
    "We train the encoder until convergence."
   ]
  },
  {
   "cell_type": "code",
   "execution_count": 9,
   "metadata": {},
   "outputs": [],
   "source": [
    "# Use the Separation criterion for training. \n",
    "# SufficiencyCriterion, SeparationCriterion and InformationBottleneckCriterion are also available\n",
    "criterion = SeparationCriterion(reg=1e6)\n",
    "\n",
    "# Train until convergence \n",
    "logs = train(encoder, criterion, train_dist.marginal(['x','y','e']), test_dist.marginal(['x','y']), verbose=True)"
   ]
  },
  {
   "cell_type": "code",
   "execution_count": 10,
   "metadata": {},
   "outputs": [
    {
     "data": {
      "text/plain": [
       "<matplotlib.legend.Legend at 0x7fce99f87310>"
      ]
     },
     "execution_count": 10,
     "metadata": {},
     "output_type": "execute_result"
    },
    {
     "data": {
      "image/png": "[encoded data removed]",
      "text/plain": [
       "<Figure size 432x288 with 1 Axes>"
      ]
     },
     "metadata": {
      "needs_background": "light"
     },
     "output_type": "display_data"
    }
   ],
   "source": [
    "# Visualize train and OOD cross-entropy over the training iterations\n",
    "logs = pd.DataFrame(logs)\n",
    "logs.plot(x='iteration')\n",
    "plt.legend(fontsize=15)"
   ]
  },
  {
   "cell_type": "markdown",
   "metadata": {},
   "source": [
    "First, we check that the model managed to enforce the separation constraint on the train distribution $p(x,y,e|t=1)$ and on the overall distribution $p(x,y,e)$"
   ]
  },
  {
   "cell_type": "code",
   "execution_count": 11,
   "metadata": {},
   "outputs": [
    {
     "name": "stdout",
     "output_type": "stream",
     "text": [
      "I_{t=1}(e;z|y): 0.000000 nats\n",
      "I(e;z|y): -0.000000 nats\n"
     ]
    }
   ],
   "source": [
    "# Compute I_{t=1}(e;z|y) on the train distribution\n",
    "print('I_{t=1}(e;z|y): %f nats' % encoder(train_dist).compute('I(e;z|y)'))\n",
    "\n",
    "# and on the overall distribution\n",
    "print('I(e;z|y): %f nats' % encoder(dist).compute('I(e;z|y)'))"
   ]
  },
  {
   "cell_type": "markdown",
   "metadata": {},
   "source": [
    "Since the model enforces separation on the overall distribution ($I(e;z|y)=0$) and the selection can be expressed as a function of the environments $t=f(e)$, we know that the latent concept drift $I(y;t|z)$ is upper bounded by the amount of prior shift $I(y;t)$"
   ]
  },
  {
   "cell_type": "code",
   "execution_count": 12,
   "metadata": {},
   "outputs": [
    {
     "name": "stdout",
     "output_type": "stream",
     "text": [
      "I(y;t|z) = 0.000000 nats <= I(y;t) = 0.000000 nats\n"
     ]
    }
   ],
   "source": [
    "# Compare latent concept shift and prior shift\n",
    "print('I(y;t|z) = %f nats <= I(y;t) = %f nats' % (encoder(dist).compute('I(y;t|z)'), dist.compute('I(y;t)')))"
   ]
  },
  {
   "cell_type": "markdown",
   "metadata": {},
   "source": [
    "Since the latent concept shift is zero, we also know that the latent OOD error $KL(p(y|z,t=0)||\\hat q(y|z))$ must be zero. This means that all the observed test error must be caused by the predictive information that has been lost during the encoding procedure:\n",
    "$$\\underbrace{KL(p(y|x,t=0)||\\hat q(y|z))}_{\\text{OOD error}} = \\underbrace{I_{t=0}(x;y|z)}_{\\text{Test Information loss}} + \\underbrace{KL(p(y|z,t=0)||\\hat q(y|z))}_{\\text{Latent OOD error}}$$"
   ]
  },
  {
   "cell_type": "code",
   "execution_count": 13,
   "metadata": {},
   "outputs": [
    {
     "name": "stdout",
     "output_type": "stream",
     "text": [
      "Lantent OOD error: -0.000000 nats\n",
      "OOD error: 0.285917 nats\n",
      "Test Information loss: 0.285917 nats\n"
     ]
    }
   ],
   "source": [
    "# The classifier q(y|z) matches the training predictive distribution p(y|z, t=1)\n",
    "q_y_z =  encoder(train_dist).conditional('y','z')\n",
    "\n",
    "# Compute latent OOD error: KL(p(y|z,t=0)||q(y|z))\n",
    "print('Lantent OOD error: %f nats' % compute_kl(encoder(test_dist),q_y_z))\n",
    "\n",
    "# Compute latent OOD error: KL(p(y|z,t=0)||q(y|z))\n",
    "print('OOD error: %f nats' % compute_kl(encoder(test_dist), q_y_z, 'x'))\n",
    "\n",
    "# Compute the amount of test information lost on the test distribution: I_{t=0}(x;y|z)\n",
    "print('Test Information loss: %f nats' % encoder(test_dist).compute('I(x;y|z)'))\n"
   ]
  },
  {
   "cell_type": "markdown",
   "metadata": {},
   "source": [
    "We visualize the train and OOD cross-entropy of the trained model on the previous picture"
   ]
  },
  {
   "cell_type": "code",
   "execution_count": 14,
   "metadata": {},
   "outputs": [
    {
     "data": {
      "image/png": "[encoded data removed]",
      "text/plain": [
       "<Figure size 360x360 with 1 Axes>"
      ]
     },
     "metadata": {
      "needs_background": "light"
     },
     "output_type": "display_data"
    }
   ],
   "source": [
    "# Compute and visualize the train and ood cross-entropy for the model after training\n",
    "q_y_z = encoder(train_dist).conditional('y','z')\n",
    "\n",
    "sep_train_ce = compute_ce(encoder(train_dist),q_y_z).item()\n",
    "sep_ood_ce = compute_ce(encoder(test_dist),q_y_z).item()\n",
    "\n",
    "plot_default()\n",
    "plt.plot(sep_train_ce, sep_ood_ce, 'o', markersize=7, label='Separation Criterion')\n",
    "\n",
    "plt.legend(fontsize=15);"
   ]
  },
  {
   "cell_type": "markdown",
   "metadata": {},
   "source": [
    "The representation $z$ manages to successfully reduce the OOD cross-entropy. Train and OOD cross-entropy are equivalent to the ones observed for an encoder that extracts only digit information."
   ]
  },
  {
   "cell_type": "markdown",
   "metadata": {},
   "source": [
    "## Sufficiency Criterion"
   ]
  },
  {
   "cell_type": "markdown",
   "metadata": {},
   "source": [
    "We repeat the same procedure by applying the separation criterion instead:\n",
    "$$ \\min_{q(z|x)} -I(y;z) + \\lambda I(e;y|z)$$"
   ]
  },
  {
   "cell_type": "code",
   "execution_count": 15,
   "metadata": {},
   "outputs": [],
   "source": [
    "# Re-initialize the encoder \n",
    "encoder = DiscreteEncoder(z_dim=64)\n",
    "\n",
    "# Define the SufficiencyCriterion\n",
    "criterion = SufficiencyCriterion(reg=1e6)\n",
    "\n",
    "# Train until convergence \n",
    "logs = train(encoder, criterion, train_dist.marginal(['x','y','e']), test_dist.marginal(['x','y']), verbose=False)"
   ]
  },
  {
   "cell_type": "markdown",
   "metadata": {},
   "source": [
    "Once again, we check if the model manages to enforce the sufficiency constraint $I(e;y|z)=0$"
   ]
  },
  {
   "cell_type": "code",
   "execution_count": 16,
   "metadata": {},
   "outputs": [
    {
     "name": "stdout",
     "output_type": "stream",
     "text": [
      "I_{t=1}(e;y|z): 0.034149 nats\n",
      "I(e;y|z): 0.133128 nats\n"
     ]
    }
   ],
   "source": [
    "# Compute I_{t=1}(e;z|y) on the train distribution\n",
    "print('I_{t=1}(e;y|z): %f nats' % encoder(train_dist).compute('I(e;y|z)'))\n",
    "\n",
    "# and on the overall distribution\n",
    "print('I(e;y|z): %f nats' % encoder(dist).compute('I(e;y|z)'))"
   ]
  },
  {
   "cell_type": "markdown",
   "metadata": {},
   "source": [
    "We notice that the encoder does not manage to enforce $I_{t=1}(e;y|z)=0$ on the selection $t=1$. This is because in the y-CMNIST graphical model, there is no variable (or group of variables) that is able to make label and environment conditionally independent"
   ]
  },
  {
   "cell_type": "code",
   "execution_count": 17,
   "metadata": {},
   "outputs": [
    {
     "name": "stdout",
     "output_type": "stream",
     "text": [
      "I_{t=1}(e;y|z=x): 0.037057 nats\n",
      "I_{t=1}(e;y|z=c): 0.044354 nats\n",
      "I_{t=1}(e;y|z=d): 0.048106 nats\n"
     ]
    }
   ],
   "source": [
    "# Compute sufficiency for picture, color and digit information\n",
    "for variable in ['x','c','d']:\n",
    "    print('I_{t=1}(e;y|z=%s): %f nats' % (variable, train_dist.compute('I(e;y|%s)'% variable)))"
   ]
  },
  {
   "cell_type": "markdown",
   "metadata": {},
   "source": [
    "Since the sufficiency constraint is not enforced, we have no guarantees on the latent concept shift $I(y;t|d)$, and the latent OOD error can be strictly positive"
   ]
  },
  {
   "cell_type": "code",
   "execution_count": 18,
   "metadata": {},
   "outputs": [
    {
     "name": "stdout",
     "output_type": "stream",
     "text": [
      "Lantent concept shift: 0.110362 nats\n",
      "Lantent OOD error: 0.506386 nats\n",
      "OOD error: 0.888253 nats\n",
      "Test Information loss: 0.381867 nats\n"
     ]
    }
   ],
   "source": [
    "# The classifier q(y|z) matches the training predictive distribution p(y|z, t=1)\n",
    "q_y_z =  encoder(train_dist).conditional('y','z')\n",
    "\n",
    "# Compute latent concept shift I(y;t|z)\n",
    "print('Lantent concept shift: %f nats' % encoder(dist).compute('I(y;t|z)'))\n",
    "\n",
    "# Compute latent OOD error: KL(p(y|z,t=0)||q(y|z))\n",
    "print('Lantent OOD error: %f nats' % compute_kl(encoder(test_dist),q_y_z))\n",
    "\n",
    "# Compute latent OOD error: KL(p(y|z,t=0)||q(y|z))\n",
    "print('OOD error: %f nats' % compute_kl(encoder(test_dist), q_y_z, 'x'))\n",
    "\n",
    "# Compute the amount of test information lost on the test distribution: I_{t=0}(x;y|z)\n",
    "print('Test Information loss: %f nats' % encoder(test_dist).compute('I(x;y|z)'))\n"
   ]
  },
  {
   "cell_type": "markdown",
   "metadata": {},
   "source": [
    "We visualize train and OOD cross-entropy together with the previously computed quantities"
   ]
  },
  {
   "cell_type": "code",
   "execution_count": 19,
   "metadata": {},
   "outputs": [
    {
     "data": {
      "image/png": "[encoded data removed]",
      "text/plain": [
       "<Figure size 360x360 with 1 Axes>"
      ]
     },
     "metadata": {
      "needs_background": "light"
     },
     "output_type": "display_data"
    }
   ],
   "source": [
    "# Compute and visualize the train and ood cross-entropy for the model after training\n",
    "q_y_z = encoder(train_dist).conditional('y','z')\n",
    "\n",
    "suff_train_ce = compute_ce(encoder(train_dist),q_y_z).item()\n",
    "suff_ood_ce = compute_ce(encoder(test_dist),q_y_z).item()\n",
    "\n",
    "plot_default()\n",
    "plt.plot(sep_train_ce, sep_ood_ce, 'o', markersize=7, label='Separation')\n",
    "plt.plot(suff_train_ce, suff_ood_ce, '>', markersize=7, label='Sufficiency')\n",
    "\n",
    "\n",
    "plt.legend(fontsize=15);"
   ]
  },
  {
   "cell_type": "markdown",
   "metadata": {},
   "source": [
    "We can see that the encoder trained with the sufficiency criterion is not able to minimize the OOD error as effectively as the model trained with the separation criterion.\n",
    "\n",
    "On d-CMNIST distribution instead, we can observe the opposite: sufficiency minimizes the OOD error while separation does not.\n",
    "\n",
    "Both criteria work equally well on the original CMNIST distribution"
   ]
  },
  {
   "cell_type": "code",
   "execution_count": null,
   "metadata": {},
   "outputs": [],
   "source": []
  }
 ],
 "metadata": {
  "kernelspec": {
   "display_name": "Python 3",
   "language": "python",
   "name": "python3"
  },
  "language_info": {
   "codemirror_mode": {
    "name": "ipython",
    "version": 3
   },
   "file_extension": ".py",
   "mimetype": "text/x-python",
   "name": "python",
   "nbconvert_exporter": "python",
   "pygments_lexer": "ipython3",
   "version": "3.8.1"
  }
 },
 "nbformat": 4,
 "nbformat_minor": 4
}
