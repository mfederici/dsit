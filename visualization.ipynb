{
 "cells": [
  {
   "cell_type": "code",
   "execution_count": 1,
   "metadata": {},
   "outputs": [
    {
     "name": "stdout",
     "output_type": "stream",
     "text": [
      "Populating the interactive namespace from numpy and matplotlib\n"
     ]
    }
   ],
   "source": [
    "%pylab inline\n",
    "\n",
    "import seaborn as sns\n",
    "sns.set_style('white')\n",
    "\n",
    "import pandas as pd\n",
    "\n",
    "import torch\n",
    "import torch.nn as nn\n",
    "\n",
    "from datasets.cmnist_dist import make_joint_distribution\n",
    "from utils.distribution import DiscreteDistribution, compute_ce, compute_kl\n",
    "from models.training import train\n",
    "from models.encoders import DiscreteEncoder\n",
    "from utils.plot import plot_data"
   ]
  },
  {
   "cell_type": "markdown",
   "metadata": {},
   "source": [
    "# Data distribution"
   ]
  },
  {
   "cell_type": "markdown",
   "metadata": {},
   "source": [
    "We will use the y-CMNIST data distribution as an example in this notebook, which defines a joint distribution of digits $d$, color $c$, pictures $x$, environments $e$, labels $y$ and selection $t$.\n",
    "The binary selection variable $t$ indicates if the data is selected for training $t=1$ or not $t=0$."
   ]
  },
  {
   "cell_type": "code",
   "execution_count": 2,
   "metadata": {},
   "outputs": [
    {
     "name": "stdout",
     "output_type": "stream",
     "text": [
      "Joint distribution: p(y,e,d,x,c,t)\n"
     ]
    }
   ],
   "source": [
    "# Create the joint distribution for y-CMNIST (CMNIST or d-CMNIST are also available)\n",
    "dist = make_joint_distribution('y-CMNIST')\n",
    "\n",
    "print('Joint distribution: %s' %dist)"
   ]
  },
  {
   "cell_type": "markdown",
   "metadata": {},
   "source": [
    "The joint distribution factorizes as $p(y,e,d,x,c,t) = p(y|d)p(e)p(d)p(c|y,e)p(x|c,d)p(t|e)$.\n",
    "Train and test distributions are created by conditioning on $t=1$ and $t=0$, respectively."
   ]
  },
  {
   "cell_type": "code",
   "execution_count": 3,
   "metadata": {},
   "outputs": [
    {
     "name": "stdout",
     "output_type": "stream",
     "text": [
      "Train distribution: p(y,e,d,x,c|t=1)\n",
      "Test distribution: p(y,e,d,x,c|t=0)\n"
     ]
    }
   ],
   "source": [
    "# Create the training distribution by selecting t=1\n",
    "train_dist = dist.condition_on('t',1)\n",
    "\n",
    "# Create the test distribution by selecting t=0\n",
    "test_dist = dist.condition_on('t',0)\n",
    "\n",
    "print('Train distribution: %s' %train_dist)\n",
    "print('Test distribution: %s' %test_dist)"
   ]
  },
  {
   "cell_type": "markdown",
   "metadata": {},
   "source": [
    "We can describe how distant the train and test distributions are by computing $I(xy;t)$, which represents how much information the selection carries about the joint distribution of raw features (pictures $s$) and targets (labels $y$). The distribution shift can be seen as the joint effect of covariate shift $I(t;x)$ and concept shift $I(y;t|x)$:\n",
    "\n",
    "$$\\underbrace{I(xy;t)}_{\\text{distribution shift}} = \\underbrace{I(x;t)}_{\\text{covariate shift}} + \\underbrace{I(y;t|x)}_{\\text{concept shift}}$$"
   ]
  },
  {
   "cell_type": "code",
   "execution_count": 4,
   "metadata": {},
   "outputs": [
    {
     "name": "stdout",
     "output_type": "stream",
     "text": [
      "Distribution shift: 0.306607 nats\n",
      "Concept shift: 0.237813 nats\n",
      "Covariate shift: 0.068793 nats\n"
     ]
    }
   ],
   "source": [
    "# Compute the amout of distribution shift I(xy;t)\n",
    "print('Distribution shift: %f nats' %(dist.compute('I(x,y;t)')))\n",
    "\n",
    "# Compute the amout of concept shift I(y;t|x)\n",
    "print('Concept shift: %f nats' %(dist.compute('I(y;t|x)')))\n",
    "\n",
    "# Compute the amout of concept shift I(x;t)\n",
    "print('Covariate shift: %f nats' %(dist.compute('I(x;t)')))"
   ]
  },
  {
   "cell_type": "markdown",
   "metadata": {},
   "source": [
    "Note that the selection $t$ does induce concept shift, therefore a maximum likelihood solution must result in positive OOD error.\n",
    "Given a model $q(y|x)$ that is optimal on the training distribution $p(y|x,t=1)$ we have:\n",
    "$$ KL(p(y|x,t=0)||q(y|x))\\ge \\frac{1}{1-\\alpha} I(y;t|x) > 0 $$"
   ]
  },
  {
   "cell_type": "markdown",
   "metadata": {},
   "source": [
    "# Introducing a Latent representation"
   ]
  },
  {
   "cell_type": "markdown",
   "metadata": {},
   "source": [
    "The out of distribution error for a model that is composed by an encoder $q(z|x)$ and classifier $q(y|z)$ is upper bounded by the $\\textit{Test Information Loss}$, which represents the amount of information lost trhough the encoding procedure (in red), and $\\textit{Latent Out Of Distribution error}$ (in blue) which represents the error when using the latent features $z$ instead of the original observations $x$:\n",
    "$$\\underbrace{KL(p(y|x,t=0)||q(y|x))}_{OOD Error}\\le \\underbrace{I_{t=0}(x;y|z)}_{\\text{Test Information Loss}} + \\underbrace{KL(p(y|z,t=0)||q(y|z))}_{\\text{Latent OOD Error}}$$\n",
    "Clearly, considering an identity encoder, which maps each observation into itself, the OOD error is equivalent to the Latent OOD error. This also happens for any encoder $q(z|x)$ that retains all the predictive information."
   ]
  },
  {
   "cell_type": "code",
   "execution_count": 5,
   "metadata": {},
   "outputs": [
    {
     "name": "stdout",
     "output_type": "stream",
     "text": [
      "q(y|x)=p(y|x,t=1)\n",
      "Lower-bound : 0.356720 nats\n",
      "OOD error: 1.249681 nats\n"
     ]
    },
    {
     "data": {
      "image/png": "[encoded data removed]",
      "text/plain": [
       "<Figure size 432x288 with 1 Axes>"
      ]
     },
     "metadata": {},
     "output_type": "display_data"
    }
   ],
   "source": [
    "data = []\n",
    "\n",
    "# define alpha as the minimum probability between p(t=0) and p(t=1)\n",
    "alpha = dist.marginal('t').p.min()\n",
    "\n",
    "# Consider a model q(y|x) that matches the train distribution p(y|x,t=1)\n",
    "q_y_x = train_dist.conditional('y','x')\n",
    "print('q(y|x)=%s' % q_y_x)\n",
    "\n",
    "# Compute the lower bound I(y;t|x)/(1-alpha)\n",
    "l_bound = dist.compute('I(y;t|x)')/(1-alpha)\n",
    "\n",
    "# Compute the OOD error for q(y|x): KL(p(y|x,t=0)||q(y|x))\n",
    "ood_error = compute_kl(test_dist, q_y_x)\n",
    "\n",
    "print('Lower-bound : %f nats' % l_bound)\n",
    "print('OOD error: %f nats' % ood_error)\n",
    "\n",
    "data.append({\n",
    "    'Model': 'Picture',\n",
    "    'Test Information Loss': 0,\n",
    "    'Latent OOD error': ood_error.item()\n",
    "})\n",
    "\n",
    "f, ax = plt.subplots(1,1)\n",
    "plot_data(data, ax)"
   ]
  },
  {
   "cell_type": "markdown",
   "metadata": {},
   "source": [
    "We compute and visualize the components of the OOD error for models that build representations based on color $c$, digit $d$ or no information (prior). Since the two marginal label distributions $p(y|t=0)$ and $p(y|t=1)$ are equivalent, the error of a model that discards all the information is entirely due to information loss, and the corresponding latent OOD error is zero. Note that a model that relies on color information (discarding anying about the digits) incurs in a higher OOD error, while a model that discards color information is able to minimize the latent OOD error, while retaining some predictive information."
   ]
  },
  {
   "cell_type": "code",
   "execution_count": 6,
   "metadata": {},
   "outputs": [
    {
     "data": {
      "image/png": "[encoded data removed]",
      "text/plain": [
       "<Figure size 432x288 with 1 Axes>"
      ]
     },
     "metadata": {},
     "output_type": "display_data"
    }
   ],
   "source": [
    "models = []\n",
    "\n",
    "# Color\n",
    "data.append({\n",
    "    'Model': 'Color',\n",
    "    'Latent OOD error': compute_kl(test_dist, train_dist.conditional('y','c')),\n",
    "    'Test Information Loss': test_dist.mi('y','x','c')\n",
    "})\n",
    "\n",
    "# Digit\n",
    "data.append({\n",
    "    'Model': 'Digit',\n",
    "    'Latent OOD error': compute_kl(test_dist, train_dist.conditional('y','d')),\n",
    "    'Test Information Loss': test_dist.mi('y','x','d')\n",
    "})\n",
    "\n",
    "# Prior\n",
    "data.append({\n",
    "    'Model': 'Prior',\n",
    "    'Latent OOD error': compute_kl(test_dist, train_dist.marginal('y')),\n",
    "    'Test Information Loss': test_dist.mi('y','x')\n",
    "})\n",
    "\n",
    "f, ax = plt.subplots(1,1)\n",
    "sns.despine()\n",
    "plot_data(data, ax)"
   ]
  },
  {
   "cell_type": "markdown",
   "metadata": {},
   "source": [
    "As a next step, we introduce randomly initialize an encoder $q(z|x)$ and measure the compoments of the OOD error. Usually most of the information is discarded even and the latent OOD error is small."
   ]
  },
  {
   "cell_type": "code",
   "execution_count": 7,
   "metadata": {},
   "outputs": [
    {
     "name": "stdout",
     "output_type": "stream",
     "text": [
      "q(y|z)=p(y|z,t=1)\n",
      "OOD error: 0.470260\n",
      "Latent OOD error: 0.470260\n",
      "Test Infomation Loss: 0.385006\n"
     ]
    },
    {
     "data": {
      "image/png": "[encoded data removed]",
      "text/plain": [
       "<Figure size 432x288 with 1 Axes>"
      ]
     },
     "metadata": {},
     "output_type": "display_data"
    }
   ],
   "source": [
    "# Create an encoder which maps each 'x' into a latent 'z' which consists of 64 different values\n",
    "encoder = DiscreteEncoder(z_dim=64)\n",
    "\n",
    "# Define an classifier q(y|z)=p(y|z,\\t=1) that is optimal on training\n",
    "q_y_z = encoder(train_dist).conditional('y','z')\n",
    "latent_test_dist = encoder(test_dist).marginal(['y','z','x'])\n",
    "print('q(y|z)=%s' % q_y_z)\n",
    "\n",
    "# Compute the OOD error of the model q(y|z)\n",
    "ood_error = compute_kl(latent_test_dist, q_y_z, cond_1='x')\n",
    "print('OOD error: %f' % ood_error)\n",
    "\n",
    "# Compute the latent OOD error of the model q(y|z)\n",
    "lat_ood_error = compute_kl(latent_test_dist, q_y_z, cond_1='z')\n",
    "print('Latent OOD error: %f' % ood_error)\n",
    "\n",
    "# Compute the amount of test information loss\n",
    "test_info_loss = encoder(test_dist).mi('y','x','z')\n",
    "print('Test Infomation Loss: %f' % test_info_loss)\n",
    "\n",
    "\n",
    "data.append({\n",
    "    'Model': 'Random', \n",
    "    'Latent OOD error': lat_ood_error.item(), \n",
    "    'Test Information Loss': test_info_loss.item()\n",
    "})\n",
    "\n",
    "\n",
    "f, ax = plt.subplots(1,1)\n",
    "plot_data(data, ax)\n",
    "sns.despine()\n"
   ]
  },
  {
   "cell_type": "markdown",
   "metadata": {},
   "source": [
    "The goal is to train the encoder $q(z|x)$ to minimize the latent OOD error while retaining maximal predictive information. We analuze different families of objectives in literature. Each of them present a loss in the form:\n",
    "$$\\mathcal{L}(\\lambda) = \\mathbb{E}_{t=1}[-\\log q(y|z)]+ \\lambda \\mathcal{R}(q(z|x)),$$\n",
    "in which the first term aims to maximize the amount of predictive information in the representation, while the second is a regularization term that aims to reduce the latent OOD error.\n",
    "The trade-off between the two objectives is regulated by the hyper-parameter $\\lambda$. DIfferent regularization will be based on the observation of an environment variable $e$, which represents the factor(s) on which the selection is based on."
   ]
  },
  {
   "cell_type": "markdown",
   "metadata": {},
   "source": [
    "# Model Training\n",
    "\n",
    "Here we explore the effect of training a latent representation using the following criteria:\n",
    "- Independence $\\mathcal{R}(q(z|x))=I(e;z)$\n",
    "- Sufficiency $\\mathcal{R}(q(z|x))=I(e;y|z)$\n",
    "- Separation $\\mathcal{R}(q(z|x))=I(e;z|y)$"
   ]
  },
  {
   "cell_type": "markdown",
   "metadata": {},
   "source": [
    "## Independence Criterion\n",
    "\n",
    "We train the model using the regularization prescribed by the independence criterion until convergence"
   ]
  },
  {
   "cell_type": "code",
   "execution_count": 8,
   "metadata": {},
   "outputs": [
    {
     "data": {
      "application/vnd.jupyter.widget-view+json": {
       "model_id": "9194fbcd02954dca899b424f3b2e4711",
       "version_major": 2,
       "version_minor": 0
      },
      "text/plain": [
       "HBox(children=(FloatProgress(value=0.0, max=5000.0), HTML(value='')))"
      ]
     },
     "metadata": {},
     "output_type": "display_data"
    },
    {
     "name": "stdout",
     "output_type": "stream",
     "text": [
      "\n"
     ]
    },
    {
     "data": {
      "application/vnd.jupyter.widget-view+json": {
       "model_id": "b7ce11ff8dcc437994f54e39e3303b65",
       "version_major": 2,
       "version_minor": 0
      },
      "text/plain": [
       "HBox(children=(FloatProgress(value=0.0, max=1000.0), HTML(value='')))"
      ]
     },
     "metadata": {},
     "output_type": "display_data"
    },
    {
     "name": "stdout",
     "output_type": "stream",
     "text": [
      "\n",
      "Done\n"
     ]
    },
    {
     "data": {
      "text/plain": [
       "<matplotlib.axes._subplots.AxesSubplot at 0x7f01c81998b0>"
      ]
     },
     "execution_count": 8,
     "metadata": {},
     "output_type": "execute_result"
    },
    {
     "data": {
      "image/png": "[encoded data removed]",
      "text/plain": [
       "<Figure size 432x288 with 1 Axes>"
      ]
     },
     "metadata": {},
     "output_type": "display_data"
    }
   ],
   "source": [
    "from models.criteria import IndependenceCriterion\n",
    "\n",
    "# re-initialize the encoder\n",
    "encoder = DiscreteEncoder(z_dim=64)\n",
    "\n",
    "# Use the Independence criterion for training with a strong regularization $\\lambda=10^6$\n",
    "criterion = IndependenceCriterion(reg=1e6)\n",
    "\n",
    "# Train until convergence, logging train and test cross entropy\n",
    "logs = train(encoder, criterion, \n",
    "             train_dist=train_dist.marginal(['x','y','e']), # train distribution\n",
    "             test_dist=test_dist.marginal(['x','y']),       # test distribution      \n",
    "             verbose=True)\n",
    "\n",
    "# Visualize the logs\n",
    "pd.DataFrame(logs).plot(x='iteration')"
   ]
  },
  {
   "cell_type": "markdown",
   "metadata": {},
   "source": [
    "We can compute the value of the regularization term $I(e;z)$ at the end of the training. We can notice that the independence constraint is correctly enforced on training but there is a small dependency left when considering the unselected (original) distribution."
   ]
  },
  {
   "cell_type": "code",
   "execution_count": 9,
   "metadata": {},
   "outputs": [
    {
     "name": "stdout",
     "output_type": "stream",
     "text": [
      "I(e;z) on train = 0.000000 nats\n",
      "I(e;z) on test = 0.004239 nats\n"
     ]
    }
   ],
   "source": [
    "# Compute the value of I(e;z) on for the trained model for the train distribution\n",
    "print('I(e;z) on train = %f nats' % encoder(train_dist).mi('e','z'))\n",
    "\n",
    "# Compute the value of I(e;z) on for the trained model\n",
    "print('I(e;z) on test = %f nats' % encoder(dist).mi('e','z'))"
   ]
  },
  {
   "cell_type": "markdown",
   "metadata": {},
   "source": [
    "We visualize the error compoments after convergence. Even if constraint is correctly enforced on train, the separation criterion does not result in minimal OOD error"
   ]
  },
  {
   "cell_type": "code",
   "execution_count": 10,
   "metadata": {},
   "outputs": [
    {
     "name": "stdout",
     "output_type": "stream",
     "text": [
      "Latent OOD error: 0.470260\n",
      "Test Infomation Loss: 0.378356\n"
     ]
    },
    {
     "data": {
      "image/png": "[encoded data removed]",
      "text/plain": [
       "<Figure size 432x288 with 1 Axes>"
      ]
     },
     "metadata": {},
     "output_type": "display_data"
    }
   ],
   "source": [
    "# Compute the latent OOD error of the model q(y|z)\n",
    "q_y_z = encoder(train_dist).conditional('y','z')\n",
    "latent_test_dist = encoder(test_dist).marginal(['y','z','x'])\n",
    "lat_ood_error = compute_kl(latent_test_dist, q_y_z, cond_1='z')\n",
    "print('Latent OOD error: %f' % ood_error)\n",
    "\n",
    "# Compute the amount of test information loss\n",
    "test_info_loss = encoder(test_dist).mi('y','x','z')\n",
    "print('Test Infomation Loss: %f' % test_info_loss)\n",
    "\n",
    "data.append({\n",
    "    'Model': 'Independence', \n",
    "    'Latent OOD error': lat_ood_error.item(), \n",
    "    'Test Information Loss': test_info_loss.item()\n",
    "})\n",
    "\n",
    "# Plot the results\n",
    "f, ax = plt.subplots(1,1)\n",
    "plot_data(data, ax)\n",
    "sns.despine()"
   ]
  },
  {
   "cell_type": "markdown",
   "metadata": {},
   "source": [
    "## Sufficiency Criterion"
   ]
  },
  {
   "cell_type": "markdown",
   "metadata": {},
   "source": [
    "We re-initialize the encoder and train it using the sufficiency criterion"
   ]
  },
  {
   "cell_type": "code",
   "execution_count": 11,
   "metadata": {},
   "outputs": [
    {
     "data": {
      "application/vnd.jupyter.widget-view+json": {
       "model_id": "52447f6297e144eb99bcdba0d1642db5",
       "version_major": 2,
       "version_minor": 0
      },
      "text/plain": [
       "HBox(children=(FloatProgress(value=0.0, max=5000.0), HTML(value='')))"
      ]
     },
     "metadata": {},
     "output_type": "display_data"
    },
    {
     "name": "stdout",
     "output_type": "stream",
     "text": [
      "\n"
     ]
    },
    {
     "data": {
      "application/vnd.jupyter.widget-view+json": {
       "model_id": "ed1a9b422cae47e791283ad65a540a26",
       "version_major": 2,
       "version_minor": 0
      },
      "text/plain": [
       "HBox(children=(FloatProgress(value=0.0, max=1000.0), HTML(value='')))"
      ]
     },
     "metadata": {},
     "output_type": "display_data"
    },
    {
     "name": "stdout",
     "output_type": "stream",
     "text": [
      "\n",
      "Distance: 0.007311>0.000100\n"
     ]
    },
    {
     "data": {
      "application/vnd.jupyter.widget-view+json": {
       "model_id": "6e1916d5a2ff4e648d302204e44ffab6",
       "version_major": 2,
       "version_minor": 0
      },
      "text/plain": [
       "HBox(children=(FloatProgress(value=0.0, max=1000.0), HTML(value='')))"
      ]
     },
     "metadata": {},
     "output_type": "display_data"
    },
    {
     "name": "stdout",
     "output_type": "stream",
     "text": [
      "\n",
      "Distance: 0.002215>0.000100\n"
     ]
    },
    {
     "data": {
      "application/vnd.jupyter.widget-view+json": {
       "model_id": "0141c4bfaeb7447b80ee3ee98d078504",
       "version_major": 2,
       "version_minor": 0
      },
      "text/plain": [
       "HBox(children=(FloatProgress(value=0.0, max=1000.0), HTML(value='')))"
      ]
     },
     "metadata": {},
     "output_type": "display_data"
    },
    {
     "name": "stdout",
     "output_type": "stream",
     "text": [
      "\n",
      "Distance: 0.001125>0.000100\n"
     ]
    },
    {
     "data": {
      "application/vnd.jupyter.widget-view+json": {
       "model_id": "7f0c861cdf5d44bfa39e2b5449582a95",
       "version_major": 2,
       "version_minor": 0
      },
      "text/plain": [
       "HBox(children=(FloatProgress(value=0.0, max=1000.0), HTML(value='')))"
      ]
     },
     "metadata": {},
     "output_type": "display_data"
    },
    {
     "name": "stdout",
     "output_type": "stream",
     "text": [
      "\n",
      "Distance: 0.000667>0.000100\n"
     ]
    },
    {
     "data": {
      "application/vnd.jupyter.widget-view+json": {
       "model_id": "7827f1d54c8c43618b32ee349190a16e",
       "version_major": 2,
       "version_minor": 0
      },
      "text/plain": [
       "HBox(children=(FloatProgress(value=0.0, max=1000.0), HTML(value='')))"
      ]
     },
     "metadata": {},
     "output_type": "display_data"
    },
    {
     "name": "stdout",
     "output_type": "stream",
     "text": [
      "\n",
      "Distance: 0.000425>0.000100\n"
     ]
    },
    {
     "data": {
      "application/vnd.jupyter.widget-view+json": {
       "model_id": "13c69127eba04d15abe9722d04de300b",
       "version_major": 2,
       "version_minor": 0
      },
      "text/plain": [
       "HBox(children=(FloatProgress(value=0.0, max=1000.0), HTML(value='')))"
      ]
     },
     "metadata": {},
     "output_type": "display_data"
    },
    {
     "name": "stdout",
     "output_type": "stream",
     "text": [
      "\n",
      "Distance: 0.000186>0.000100\n"
     ]
    },
    {
     "data": {
      "application/vnd.jupyter.widget-view+json": {
       "model_id": "4b43a197d8c043d1b910014fbee1a096",
       "version_major": 2,
       "version_minor": 0
      },
      "text/plain": [
       "HBox(children=(FloatProgress(value=0.0, max=1000.0), HTML(value='')))"
      ]
     },
     "metadata": {},
     "output_type": "display_data"
    },
    {
     "name": "stdout",
     "output_type": "stream",
     "text": [
      "\n",
      "Distance: 0.000102>0.000100\n"
     ]
    },
    {
     "data": {
      "application/vnd.jupyter.widget-view+json": {
       "model_id": "25dc03fb3ac243bb97eaac00fdeab770",
       "version_major": 2,
       "version_minor": 0
      },
      "text/plain": [
       "HBox(children=(FloatProgress(value=0.0, max=1000.0), HTML(value='')))"
      ]
     },
     "metadata": {},
     "output_type": "display_data"
    },
    {
     "name": "stdout",
     "output_type": "stream",
     "text": [
      "\n",
      "Done\n"
     ]
    },
    {
     "data": {
      "text/plain": [
       "<matplotlib.axes._subplots.AxesSubplot at 0x7f01c8212160>"
      ]
     },
     "execution_count": 11,
     "metadata": {},
     "output_type": "execute_result"
    },
    {
     "data": {
      "image/png": "[encoded data removed]",
      "text/plain": [
       "<Figure size 432x288 with 1 Axes>"
      ]
     },
     "metadata": {},
     "output_type": "display_data"
    }
   ],
   "source": [
    "from models.criteria import SufficiencyCriterion\n",
    "\n",
    "# re-initialize the encoder\n",
    "encoder = DiscreteEncoder(z_dim=64)\n",
    "\n",
    "# Use the Sufficiency criterion for training with a strong regularization $\\lambda=10^6$\n",
    "criterion = SufficiencyCriterion(reg=1e6)\n",
    "\n",
    "# Train until convergence, logging train and test cross entropy\n",
    "logs = train(encoder, criterion, \n",
    "             train_dist=train_dist.marginal(['x','y','e']), # train distribution\n",
    "             test_dist=test_dist.marginal(['x','y']),       # test distribution      \n",
    "             verbose=True)\n",
    "\n",
    "# Visualize the logs\n",
    "pd.DataFrame(logs).plot(x='iteration')"
   ]
  },
  {
   "cell_type": "markdown",
   "metadata": {},
   "source": [
    "Note that despite the long training, the model is not able to create a representation that satisfies the sufficiency constraint $ I(e;y|z)=0 $ on training (such representation does not exist for the d-CMNIST dataset"
   ]
  },
  {
   "cell_type": "code",
   "execution_count": 12,
   "metadata": {},
   "outputs": [
    {
     "name": "stdout",
     "output_type": "stream",
     "text": [
      "I(e;y|z) on train = 0.034146\n",
      "I(e;y|z) = 0.133106\n"
     ]
    }
   ],
   "source": [
    "# Compute the value of I(e;z) on for the trained model for the train distribution\n",
    "print('I(e;y|z) on train = %f' % encoder(train_dist).mi('e','y','z'))\n",
    "\n",
    "# Compute the value of I(e;z) on for the trained model\n",
    "print('I(e;y|z) = %f' % encoder(dist).mi('e','y','z'))"
   ]
  },
  {
   "cell_type": "markdown",
   "metadata": {},
   "source": [
    "Once again the resulting model is not optimal in terms of OOD error"
   ]
  },
  {
   "cell_type": "code",
   "execution_count": 13,
   "metadata": {},
   "outputs": [
    {
     "name": "stdout",
     "output_type": "stream",
     "text": [
      "Latent OOD error: 0.470260\n",
      "Test Infomation Loss: 0.381897\n"
     ]
    },
    {
     "data": {
      "image/png": "[encoded data removed]",
      "text/plain": [
       "<Figure size 432x288 with 1 Axes>"
      ]
     },
     "metadata": {},
     "output_type": "display_data"
    }
   ],
   "source": [
    "# Compute the latent OOD error of the model q(y|z)\n",
    "q_y_z = encoder(train_dist).conditional('y','z')\n",
    "lat_ood_error = compute_kl(latent_test_dist, q_y_z, cond_1='z')\n",
    "latent_test_dist = encoder(test_dist).marginal(['y','z','x'])\n",
    "print('Latent OOD error: %f' % ood_error)\n",
    "\n",
    "# Compute the amount of test information loss\n",
    "test_info_loss = encoder(test_dist).mi('y','x','z')\n",
    "print('Test Infomation Loss: %f' % test_info_loss)\n",
    "\n",
    "\n",
    "data.append({\n",
    "    'Model': 'Sufficiency', \n",
    "    'Latent OOD error': lat_ood_error.item(), \n",
    "    'Test Information Loss': test_info_loss.item()\n",
    "})\n",
    "\n",
    "# Plot the results\n",
    "f, ax = plt.subplots(1,1)\n",
    "plot_data(data, ax)\n",
    "sns.despine()"
   ]
  },
  {
   "cell_type": "markdown",
   "metadata": {},
   "source": [
    "## Separation Criterion"
   ]
  },
  {
   "cell_type": "markdown",
   "metadata": {},
   "source": [
    "We repeat the same procedure by applying the separation criterion instead"
   ]
  },
  {
   "cell_type": "code",
   "execution_count": 14,
   "metadata": {},
   "outputs": [
    {
     "data": {
      "application/vnd.jupyter.widget-view+json": {
       "model_id": "ed7a6128b1cf4ac89f45b562404031f4",
       "version_major": 2,
       "version_minor": 0
      },
      "text/plain": [
       "HBox(children=(FloatProgress(value=0.0, max=5000.0), HTML(value='')))"
      ]
     },
     "metadata": {},
     "output_type": "display_data"
    },
    {
     "name": "stdout",
     "output_type": "stream",
     "text": [
      "\n"
     ]
    },
    {
     "data": {
      "application/vnd.jupyter.widget-view+json": {
       "model_id": "d4be46b0ca0345099627ae477dc71ab7",
       "version_major": 2,
       "version_minor": 0
      },
      "text/plain": [
       "HBox(children=(FloatProgress(value=0.0, max=1000.0), HTML(value='')))"
      ]
     },
     "metadata": {},
     "output_type": "display_data"
    },
    {
     "name": "stdout",
     "output_type": "stream",
     "text": [
      "\n",
      "Distance: 0.000647>0.000100\n"
     ]
    },
    {
     "data": {
      "application/vnd.jupyter.widget-view+json": {
       "model_id": "ce9f48dd858f421ab5c7c1b07fc9e630",
       "version_major": 2,
       "version_minor": 0
      },
      "text/plain": [
       "HBox(children=(FloatProgress(value=0.0, max=1000.0), HTML(value='')))"
      ]
     },
     "metadata": {},
     "output_type": "display_data"
    },
    {
     "name": "stdout",
     "output_type": "stream",
     "text": [
      "\n",
      "Distance: 0.001122>0.000100\n"
     ]
    },
    {
     "data": {
      "application/vnd.jupyter.widget-view+json": {
       "model_id": "f2dda7e1a07c4e0b895f5f4a71df738d",
       "version_major": 2,
       "version_minor": 0
      },
      "text/plain": [
       "HBox(children=(FloatProgress(value=0.0, max=1000.0), HTML(value='')))"
      ]
     },
     "metadata": {},
     "output_type": "display_data"
    },
    {
     "name": "stdout",
     "output_type": "stream",
     "text": [
      "\n",
      "Distance: 0.002027>0.000100\n"
     ]
    },
    {
     "data": {
      "application/vnd.jupyter.widget-view+json": {
       "model_id": "919e437f20e04b698e64c398e5007316",
       "version_major": 2,
       "version_minor": 0
      },
      "text/plain": [
       "HBox(children=(FloatProgress(value=0.0, max=1000.0), HTML(value='')))"
      ]
     },
     "metadata": {},
     "output_type": "display_data"
    },
    {
     "name": "stdout",
     "output_type": "stream",
     "text": [
      "\n",
      "Distance: 0.003918>0.000100\n"
     ]
    },
    {
     "data": {
      "application/vnd.jupyter.widget-view+json": {
       "model_id": "6b922c71514d4a11865e38e7735b4d81",
       "version_major": 2,
       "version_minor": 0
      },
      "text/plain": [
       "HBox(children=(FloatProgress(value=0.0, max=1000.0), HTML(value='')))"
      ]
     },
     "metadata": {},
     "output_type": "display_data"
    },
    {
     "name": "stdout",
     "output_type": "stream",
     "text": [
      "\n",
      "Distance: 0.008251>0.000100\n"
     ]
    },
    {
     "data": {
      "application/vnd.jupyter.widget-view+json": {
       "model_id": "be4d79e79580475b9ae7d19663b99f54",
       "version_major": 2,
       "version_minor": 0
      },
      "text/plain": [
       "HBox(children=(FloatProgress(value=0.0, max=1000.0), HTML(value='')))"
      ]
     },
     "metadata": {},
     "output_type": "display_data"
    },
    {
     "name": "stdout",
     "output_type": "stream",
     "text": [
      "\n",
      "Distance: 0.016565>0.000100\n"
     ]
    },
    {
     "data": {
      "application/vnd.jupyter.widget-view+json": {
       "model_id": "f09f24e36e924ce19b4c8e688d3092e6",
       "version_major": 2,
       "version_minor": 0
      },
      "text/plain": [
       "HBox(children=(FloatProgress(value=0.0, max=1000.0), HTML(value='')))"
      ]
     },
     "metadata": {},
     "output_type": "display_data"
    },
    {
     "name": "stdout",
     "output_type": "stream",
     "text": [
      "\n",
      "Distance: 0.024811>0.000100\n"
     ]
    },
    {
     "data": {
      "application/vnd.jupyter.widget-view+json": {
       "model_id": "17aa838e93e8425691fd07c70233a3f1",
       "version_major": 2,
       "version_minor": 0
      },
      "text/plain": [
       "HBox(children=(FloatProgress(value=0.0, max=1000.0), HTML(value='')))"
      ]
     },
     "metadata": {},
     "output_type": "display_data"
    },
    {
     "name": "stdout",
     "output_type": "stream",
     "text": [
      "\n",
      "Distance: 0.026518>0.000100\n"
     ]
    },
    {
     "data": {
      "application/vnd.jupyter.widget-view+json": {
       "model_id": "7bb70161dbee4e87934016bfe0db7cac",
       "version_major": 2,
       "version_minor": 0
      },
      "text/plain": [
       "HBox(children=(FloatProgress(value=0.0, max=1000.0), HTML(value='')))"
      ]
     },
     "metadata": {},
     "output_type": "display_data"
    },
    {
     "name": "stdout",
     "output_type": "stream",
     "text": [
      "\n",
      "Distance: 0.022821>0.000100\n"
     ]
    },
    {
     "data": {
      "application/vnd.jupyter.widget-view+json": {
       "model_id": "36472b95d67a4903b414fe8df7da89cb",
       "version_major": 2,
       "version_minor": 0
      },
      "text/plain": [
       "HBox(children=(FloatProgress(value=0.0, max=1000.0), HTML(value='')))"
      ]
     },
     "metadata": {},
     "output_type": "display_data"
    },
    {
     "name": "stdout",
     "output_type": "stream",
     "text": [
      "\n",
      "Distance: 0.017338>0.000100\n"
     ]
    },
    {
     "data": {
      "application/vnd.jupyter.widget-view+json": {
       "model_id": "45a7d2d6c87f43368e89fa36ff326eef",
       "version_major": 2,
       "version_minor": 0
      },
      "text/plain": [
       "HBox(children=(FloatProgress(value=0.0, max=1000.0), HTML(value='')))"
      ]
     },
     "metadata": {},
     "output_type": "display_data"
    },
    {
     "name": "stdout",
     "output_type": "stream",
     "text": [
      "\n",
      "Distance: 0.013102>0.000100\n"
     ]
    },
    {
     "data": {
      "application/vnd.jupyter.widget-view+json": {
       "model_id": "0603db82de504f62ac0d1cd9f07ba81e",
       "version_major": 2,
       "version_minor": 0
      },
      "text/plain": [
       "HBox(children=(FloatProgress(value=0.0, max=1000.0), HTML(value='')))"
      ]
     },
     "metadata": {},
     "output_type": "display_data"
    },
    {
     "name": "stdout",
     "output_type": "stream",
     "text": [
      "\n",
      "Distance: 0.009769>0.000100\n"
     ]
    },
    {
     "data": {
      "application/vnd.jupyter.widget-view+json": {
       "model_id": "1d44d22891a24a33bdfda609cd16eeaf",
       "version_major": 2,
       "version_minor": 0
      },
      "text/plain": [
       "HBox(children=(FloatProgress(value=0.0, max=1000.0), HTML(value='')))"
      ]
     },
     "metadata": {},
     "output_type": "display_data"
    },
    {
     "name": "stdout",
     "output_type": "stream",
     "text": [
      "\n",
      "Distance: 0.007200>0.000100\n"
     ]
    },
    {
     "data": {
      "application/vnd.jupyter.widget-view+json": {
       "model_id": "d593f0481f5f4b9cb67ac891fb0a509e",
       "version_major": 2,
       "version_minor": 0
      },
      "text/plain": [
       "HBox(children=(FloatProgress(value=0.0, max=1000.0), HTML(value='')))"
      ]
     },
     "metadata": {},
     "output_type": "display_data"
    },
    {
     "name": "stdout",
     "output_type": "stream",
     "text": [
      "\n",
      "Distance: 0.005264>0.000100\n"
     ]
    },
    {
     "data": {
      "application/vnd.jupyter.widget-view+json": {
       "model_id": "f97d7097d5214f86b40e6739599ef2a3",
       "version_major": 2,
       "version_minor": 0
      },
      "text/plain": [
       "HBox(children=(FloatProgress(value=0.0, max=1000.0), HTML(value='')))"
      ]
     },
     "metadata": {},
     "output_type": "display_data"
    },
    {
     "name": "stdout",
     "output_type": "stream",
     "text": [
      "\n",
      "Distance: 0.003765>0.000100\n"
     ]
    },
    {
     "data": {
      "application/vnd.jupyter.widget-view+json": {
       "model_id": "aaf5b35a01cc4ac18397018783fcf99f",
       "version_major": 2,
       "version_minor": 0
      },
      "text/plain": [
       "HBox(children=(FloatProgress(value=0.0, max=1000.0), HTML(value='')))"
      ]
     },
     "metadata": {},
     "output_type": "display_data"
    },
    {
     "name": "stdout",
     "output_type": "stream",
     "text": [
      "\n",
      "Distance: 0.002632>0.000100\n"
     ]
    },
    {
     "data": {
      "application/vnd.jupyter.widget-view+json": {
       "model_id": "26cf234cd46b4023ae5ba61b9e4397a5",
       "version_major": 2,
       "version_minor": 0
      },
      "text/plain": [
       "HBox(children=(FloatProgress(value=0.0, max=1000.0), HTML(value='')))"
      ]
     },
     "metadata": {},
     "output_type": "display_data"
    },
    {
     "name": "stdout",
     "output_type": "stream",
     "text": [
      "\n",
      "Distance: 0.001800>0.000100\n"
     ]
    },
    {
     "data": {
      "application/vnd.jupyter.widget-view+json": {
       "model_id": "9ad28de9120343ea8405db64789eb467",
       "version_major": 2,
       "version_minor": 0
      },
      "text/plain": [
       "HBox(children=(FloatProgress(value=0.0, max=1000.0), HTML(value='')))"
      ]
     },
     "metadata": {},
     "output_type": "display_data"
    },
    {
     "name": "stdout",
     "output_type": "stream",
     "text": [
      "\n",
      "Distance: 0.001221>0.000100\n"
     ]
    },
    {
     "data": {
      "application/vnd.jupyter.widget-view+json": {
       "model_id": "37b7f55ab5a047409a61c3c40c24e309",
       "version_major": 2,
       "version_minor": 0
      },
      "text/plain": [
       "HBox(children=(FloatProgress(value=0.0, max=1000.0), HTML(value='')))"
      ]
     },
     "metadata": {},
     "output_type": "display_data"
    },
    {
     "name": "stdout",
     "output_type": "stream",
     "text": [
      "\n",
      "Distance: 0.000825>0.000100\n"
     ]
    },
    {
     "data": {
      "application/vnd.jupyter.widget-view+json": {
       "model_id": "d397567dc12d474d8dc5f662b207e616",
       "version_major": 2,
       "version_minor": 0
      },
      "text/plain": [
       "HBox(children=(FloatProgress(value=0.0, max=1000.0), HTML(value='')))"
      ]
     },
     "metadata": {},
     "output_type": "display_data"
    },
    {
     "name": "stdout",
     "output_type": "stream",
     "text": [
      "\n",
      "Distance: 0.000550>0.000100\n"
     ]
    },
    {
     "data": {
      "application/vnd.jupyter.widget-view+json": {
       "model_id": "eb552998cf9d4211940a85410837010e",
       "version_major": 2,
       "version_minor": 0
      },
      "text/plain": [
       "HBox(children=(FloatProgress(value=0.0, max=1000.0), HTML(value='')))"
      ]
     },
     "metadata": {},
     "output_type": "display_data"
    },
    {
     "name": "stdout",
     "output_type": "stream",
     "text": [
      "\n",
      "Distance: 0.000371>0.000100\n"
     ]
    },
    {
     "data": {
      "application/vnd.jupyter.widget-view+json": {
       "model_id": "0d3fd89ede6b44b1afb54b97ff2339dd",
       "version_major": 2,
       "version_minor": 0
      },
      "text/plain": [
       "HBox(children=(FloatProgress(value=0.0, max=1000.0), HTML(value='')))"
      ]
     },
     "metadata": {},
     "output_type": "display_data"
    },
    {
     "name": "stdout",
     "output_type": "stream",
     "text": [
      "\n",
      "Distance: 0.000247>0.000100\n"
     ]
    },
    {
     "data": {
      "application/vnd.jupyter.widget-view+json": {
       "model_id": "66de2a91abb74d70b2bf1959882e29e9",
       "version_major": 2,
       "version_minor": 0
      },
      "text/plain": [
       "HBox(children=(FloatProgress(value=0.0, max=1000.0), HTML(value='')))"
      ]
     },
     "metadata": {},
     "output_type": "display_data"
    },
    {
     "name": "stdout",
     "output_type": "stream",
     "text": [
      "\n",
      "Distance: 0.000164>0.000100\n"
     ]
    },
    {
     "data": {
      "application/vnd.jupyter.widget-view+json": {
       "model_id": "2dc157584d7845788242ca3aceb1837e",
       "version_major": 2,
       "version_minor": 0
      },
      "text/plain": [
       "HBox(children=(FloatProgress(value=0.0, max=1000.0), HTML(value='')))"
      ]
     },
     "metadata": {},
     "output_type": "display_data"
    },
    {
     "name": "stdout",
     "output_type": "stream",
     "text": [
      "\n",
      "Distance: 0.000109>0.000100\n"
     ]
    },
    {
     "data": {
      "application/vnd.jupyter.widget-view+json": {
       "model_id": "f4a6b62060ec4261aeefcf0c5b1870e9",
       "version_major": 2,
       "version_minor": 0
      },
      "text/plain": [
       "HBox(children=(FloatProgress(value=0.0, max=1000.0), HTML(value='')))"
      ]
     },
     "metadata": {},
     "output_type": "display_data"
    },
    {
     "name": "stdout",
     "output_type": "stream",
     "text": [
      "\n",
      "Done\n"
     ]
    },
    {
     "data": {
      "text/plain": [
       "<matplotlib.axes._subplots.AxesSubplot at 0x7f01c2715c70>"
      ]
     },
     "execution_count": 14,
     "metadata": {},
     "output_type": "execute_result"
    },
    {
     "data": {
      "image/png": "[encoded data removed]",
      "text/plain": [
       "<Figure size 432x288 with 1 Axes>"
      ]
     },
     "metadata": {},
     "output_type": "display_data"
    }
   ],
   "source": [
    "from models.criteria import SeparationCriterion\n",
    "\n",
    "# re-initialize the encoder\n",
    "encoder = DiscreteEncoder(z_dim=64)\n",
    "\n",
    "# Use the Sufficiency criterion for training with a strong regularization $\\lambda=10^6$\n",
    "criterion = SeparationCriterion(reg=1e6)\n",
    "\n",
    "# Train until convergence, logging train and test cross entropy\n",
    "logs = train(encoder, criterion, \n",
    "             train_dist=train_dist.marginal(['x','y','e']), # train distribution\n",
    "             test_dist=test_dist.marginal(['x','y']),       # test distribution      \n",
    "             verbose=True)\n",
    "\n",
    "# Visualize the logs\n",
    "pd.DataFrame(logs).plot(x='iteration')"
   ]
  },
  {
   "cell_type": "markdown",
   "metadata": {},
   "source": [
    "Once again, we check if the model manages to enforce the separation constraint $I(e;z|y)=0$"
   ]
  },
  {
   "cell_type": "code",
   "execution_count": 15,
   "metadata": {},
   "outputs": [
    {
     "name": "stdout",
     "output_type": "stream",
     "text": [
      "I(e;z|y) on train = 0.000000\n",
      "I(e;z|y) = -0.000000\n"
     ]
    }
   ],
   "source": [
    "# Compute the value of I(e;z) on for the trained model for the train distribution\n",
    "print('I(e;z|y) on train = %f' % encoder(train_dist).mi('e','z','y'))\n",
    "\n",
    "# Compute the value of I(e;z) on for the trained model\n",
    "print('I(e;z|y) = %f' % encoder(dist).mi('e','z','y'))"
   ]
  },
  {
   "cell_type": "markdown",
   "metadata": {},
   "source": [
    "Note that the model that enforces the separation criterion is the only one that minimizes the overall OOD error on the y-CMNIST dataset"
   ]
  },
  {
   "cell_type": "code",
   "execution_count": 16,
   "metadata": {},
   "outputs": [
    {
     "name": "stdout",
     "output_type": "stream",
     "text": [
      "Latent OOD error: 0.470260\n",
      "Test Infomation Loss: 0.285903\n"
     ]
    },
    {
     "data": {
      "image/png": "[encoded data removed]",
      "text/plain": [
       "<Figure size 432x288 with 1 Axes>"
      ]
     },
     "metadata": {},
     "output_type": "display_data"
    }
   ],
   "source": [
    "# Compute the latent OOD error of the model q(y|z)\n",
    "q_y_z = encoder(train_dist).conditional('y','z')\n",
    "latent_test_dist = encoder(test_dist).marginal(['y','z','x'])\n",
    "lat_ood_error = compute_kl(latent_test_dist, q_y_z, cond_1='z')\n",
    "print('Latent OOD error: %f' % ood_error)\n",
    "\n",
    "# Compute the amount of test information loss\n",
    "test_info_loss = encoder(test_dist).mi('y','x','z')\n",
    "print('Test Infomation Loss: %f' % test_info_loss)\n",
    "\n",
    "\n",
    "data.append({\n",
    "    'Model': 'Separation', \n",
    "    'Latent OOD error': lat_ood_error.item(), \n",
    "    'Test Information Loss': test_info_loss.item()\n",
    "})\n",
    "\n",
    "# Plot the results\n",
    "f, ax = plt.subplots(1,1)\n",
    "plot_data(data, ax)\n",
    "sns.despine()"
   ]
  },
  {
   "cell_type": "markdown",
   "metadata": {},
   "source": [
    "The other experiments reported in the paper can be repliated by changing the data-generating distribution reported at the beginning of this notebook"
   ]
  },
  {
   "cell_type": "code",
   "execution_count": null,
   "metadata": {},
   "outputs": [],
   "source": []
  }
 ],
 "metadata": {
  "kernelspec": {
   "display_name": "Python 3",
   "language": "python",
   "name": "python3"
  },
  "language_info": {
   "codemirror_mode": {
    "name": "ipython",
    "version": 3
   },
   "file_extension": ".py",
   "mimetype": "text/x-python",
   "name": "python",
   "nbconvert_exporter": "python",
   "pygments_lexer": "ipython3",
   "version": "3.8.1"
  }
 },
 "nbformat": 4,
 "nbformat_minor": 4
}
