{
 "cells": [
  {
   "cell_type": "code",
   "execution_count": 1,
   "metadata": {},
   "outputs": [
    {
     "name": "stdout",
     "output_type": "stream",
     "text": [
      "Populating the interactive namespace from numpy and matplotlib\n"
     ]
    }
   ],
   "source": [
    "%pylab inline\n",
    "\n",
    "import seaborn as sns\n",
    "sns.set_style('white')\n",
    "\n",
    "import pandas as pd\n",
    "\n",
    "import torch\n",
    "import torch.nn as nn\n",
    "\n",
    "from code.data.cmnist_dist import make_joint_distribution\n",
    "from code.discrete_distributions import DiscreteDistribution, compute_ce, compute_kl\n",
    "from code.discrete_distributions.plot import plot_data\n",
    "from code.discrete_models.training import train\n",
    "from code.discrete_models.encoders import DiscreteEncoder"
   ]
  },
  {
   "cell_type": "markdown",
   "metadata": {},
   "source": [
    "# Data distribution"
   ]
  },
  {
   "cell_type": "markdown",
   "metadata": {},
   "source": [
    "We will use the y-CMNIST data distribution as an example in this notebook, which defines a joint distribution of digits $d$, color $c$, pictures $x$, environments $e$, labels $y$ and selection $t$.\n",
    "The binary selection variable $t$ indicates if the data is selected for training $t=1$ or not $t=0$."
   ]
  },
  {
   "cell_type": "code",
   "execution_count": 50,
   "metadata": {},
   "outputs": [
    {
     "name": "stdout",
     "output_type": "stream",
     "text": [
      "Joint distribution: p(y,e,d,x,c,t)\n"
     ]
    },
    {
     "data": {
      "image/png": "[encoded data removed]",
      "text/plain": [
       "<Figure size 1080x360 with 3 Axes>"
      ]
     },
     "metadata": {},
     "output_type": "display_data"
    }
   ],
   "source": [
    "# Create the joint distribution for y-CMNIST (CMNIST or d-CMNIST are also available)\n",
    "dataset = 'y-CMNIST'\n",
    "dist = make_joint_distribution(dataset)\n",
    "\n",
    "print('Joint distribution: %s' %dist)\n",
    "\n",
    "\n",
    "# We visualize some of the pair-wise joint distributions\n",
    "f, ax = plt.subplots(1,3, figsize=(15, 5))\n",
    "\n",
    "for i, joint in enumerate([\n",
    "    dist.marginal(['y','e']), \n",
    "    dist.marginal(['y','d']), \n",
    "    dist.marginal(['y','c'])]): \n",
    "    \n",
    "    ax[i].set_title(joint, size=18)\n",
    "    ax[i].imshow(joint.p, clim=(0,1), cmap='viridis')\n",
    "    ax[i].set_xlabel(joint.indices[1], size=18)\n",
    "    ax[i].set_ylabel(joint.indices[0], size=18)\n",
    "    ax[i].set_xticks(range(joint.p.shape[1]))\n",
    "    ax[i].set_yticks(range(joint.p.shape[0]))\n",
    "\n",
    "\n"
   ]
  },
  {
   "cell_type": "markdown",
   "metadata": {},
   "source": [
    "The joint distribution factorizes as $p(y,e,d,x,c,t) = p(y|d)p(e)p(d)p(c|y,e)p(x|c,d)p(t|e)$.\n",
    "Train and test distributions are created by conditioning on $t=1$ and $t=0$, respectively."
   ]
  },
  {
   "cell_type": "code",
   "execution_count": 3,
   "metadata": {},
   "outputs": [
    {
     "name": "stdout",
     "output_type": "stream",
     "text": [
      "Train distribution: p(y,e,d,x,c|t=1)\n",
      "Test distribution: p(y,e,d,x,c|t=0)\n"
     ]
    }
   ],
   "source": [
    "# Create the training distribution by selecting t=1\n",
    "train_dist = dist.condition_on('t',1)\n",
    "\n",
    "# Create the test distribution by selecting t=0\n",
    "test_dist = dist.condition_on('t',0)\n",
    "\n",
    "print('Train distribution: %s' %train_dist)\n",
    "print('Test distribution: %s' %test_dist)"
   ]
  },
  {
   "cell_type": "markdown",
   "metadata": {},
   "source": [
    "We can describe how distant the train and test distributions are by computing $I(xy;t)$, which represents how much information the selection carries about the joint distribution of raw features (pictures $s$) and targets (labels $y$). The distribution shift can be seen as the joint effect of covariate shift $I(t;x)$ and concept shift $I(y;t|x)$:\n",
    "\n",
    "$$\\underbrace{I(xy;t)}_{\\text{distribution shift}} = \\underbrace{I(x;t)}_{\\text{covariate shift}} + \\underbrace{I(y;t|x)}_{\\text{concept shift}}$$"
   ]
  },
  {
   "cell_type": "code",
   "execution_count": 4,
   "metadata": {},
   "outputs": [
    {
     "name": "stdout",
     "output_type": "stream",
     "text": [
      "Distribution shift: 0.306607 nats\n",
      "Concept shift: 0.237813 nats\n",
      "Covariate shift: 0.068793 nats\n"
     ]
    }
   ],
   "source": [
    "# Compute the amout of distribution shift I(xy;t)\n",
    "print('Distribution shift: %f nats' %(dist.compute('I(x,y;t)')))\n",
    "\n",
    "# Compute the amout of concept shift I(y;t|x)\n",
    "print('Concept shift: %f nats' %(dist.compute('I(y;t|x)')))\n",
    "\n",
    "# Compute the amout of concept shift I(x;t)\n",
    "print('Covariate shift: %f nats' %(dist.compute('I(x;t)')))"
   ]
  },
  {
   "cell_type": "markdown",
   "metadata": {},
   "source": [
    "Note that the selection $t$ does induce concept shift, therefore a maximum likelihood solution must result in positive Test error.\n",
    "Given a model $q(y|x)$ that is optimal on the training distribution $p(y|x,t=1)$ we have:\n",
    "$$KL(p(y|x,t=0)||q(y|x))\\ge \\frac{1}{1-\\alpha} I(y;t|x) > 0.237813 \\text{ nats}$$"
   ]
  },
  {
   "cell_type": "markdown",
   "metadata": {},
   "source": [
    "# Introducing a Latent representation"
   ]
  },
  {
   "cell_type": "markdown",
   "metadata": {},
   "source": [
    "The test error for a model that is composed by an encoder $q(z|x)$ and classifier $q(y|z)$ is upper bounded by the $\\textit{Test Information Loss}$, which represents the amount of information lost trhough the encoding procedure (in red), and $\\textit{Latent Test error}$ (in blue) which represents the error when using the latent features $z$ instead of the original observations $x$:\n",
    "$$\\underbrace{KL(p(y|x,t=0)||q(y|x))}_{\\text{Test Error}}\\le \\underbrace{I_{t=0}(x;y|z)}_{\\text{Test Information Loss}} + \\underbrace{KL(p(y|z,t=0)||q(y|z))}_{\\text{Latent Test Error}}$$\n",
    "Clearly, considering an identity encoder, which maps each observation into itself, the Test error is equivalent to the Latent Test error. This also happens for any encoder $q(z|x)$ that retains all the predictive information."
   ]
  },
  {
   "cell_type": "code",
   "execution_count": 5,
   "metadata": {},
   "outputs": [
    {
     "name": "stdout",
     "output_type": "stream",
     "text": [
      "q(y|x)=p(y|x,t=1)\n",
      "Lower-bound : 0.356720 nats\n",
      "OOD error: 1.249681 nats\n"
     ]
    },
    {
     "data": {
      "image/png": "[encoded data removed]",
      "text/plain": [
       "<Figure size 432x288 with 1 Axes>"
      ]
     },
     "metadata": {},
     "output_type": "display_data"
    }
   ],
   "source": [
    "data = []\n",
    "\n",
    "# define alpha as the minimum probability between p(t=0) and p(t=1)\n",
    "alpha = dist.marginal('t').p.min()\n",
    "\n",
    "# Consider a model q(y|x) that matches the train distribution p(y|x,t=1)\n",
    "q_y_x = train_dist.conditional('y','x')\n",
    "print('q(y|x)=%s' % q_y_x)\n",
    "\n",
    "# Compute the lower bound I(y;t|x)/(1-alpha)\n",
    "l_bound = dist.compute('I(y;t|x)')/(1-alpha)\n",
    "\n",
    "# Compute the OOD error for q(y|x): KL(p(y|x,t=0)||q(y|x))\n",
    "ood_error = compute_kl(test_dist, q_y_x)\n",
    "\n",
    "print('Lower-bound I(y;x|t): %f nats' % l_bound)\n",
    "print('OOD error: %f nats' % ood_error)\n",
    "\n",
    "data.append({\n",
    "    'Model': 'Picture',\n",
    "    'Test Information Loss': 0,\n",
    "    'Latent Test error': ood_error.item()\n",
    "})\n",
    "\n",
    "f, ax = plt.subplots(1,1)\n",
    "plot_data(data, ax)"
   ]
  },
  {
   "cell_type": "markdown",
   "metadata": {},
   "source": [
    "We compute and visualize the components of the Test error for models that build representations based on color $c$, digit $d$ or no information (prior). \n",
    "\n",
    "Since the two marginal label distributions $p(y|t=0)$ and $p(y|t=1)$ are equivalent, the error of a model that discards all the information is entirely due to information loss, and the corresponding Latent Test error is zero. \n",
    "\n",
    "On the other hand, any model that relies exclusively on color information (discarding anying about the digits) incurs in a higher Test error since the dependency between color and label is inverted at test time ($t=0$). \n",
    "\n",
    "A model that discards color information while keeping digit information is able to minimize the latent Test error, while retaining most of the predictive information. The corresponding representation contains only digit information which is reliable to predict the label $y$ across all the environments."
   ]
  },
  {
   "cell_type": "code",
   "execution_count": 6,
   "metadata": {},
   "outputs": [
    {
     "data": {
      "image/png": "[encoded data removed]",
      "text/plain": [
       "<Figure size 432x288 with 1 Axes>"
      ]
     },
     "metadata": {},
     "output_type": "display_data"
    }
   ],
   "source": [
    "models = []\n",
    "\n",
    "# Color\n",
    "data.append({\n",
    "    'Model': 'Color',\n",
    "    'Latent Test error': compute_kl(test_dist, train_dist.conditional('y','c')),\n",
    "    'Test Information Loss': test_dist.mi('y','x','c')\n",
    "})\n",
    "\n",
    "# Digit\n",
    "data.append({\n",
    "    'Model': 'Digit',\n",
    "    'Latent Test error': compute_kl(test_dist, train_dist.conditional('y','d')),\n",
    "    'Test Information Loss': test_dist.mi('y','x','d')\n",
    "})\n",
    "\n",
    "# Prior\n",
    "data.append({\n",
    "    'Model': 'Prior',\n",
    "    'Latent Test error': compute_kl(test_dist, train_dist.marginal('y')),\n",
    "    'Test Information Loss': test_dist.mi('y','x')\n",
    "})\n",
    "\n",
    "f, ax = plt.subplots(1,1)\n",
    "sns.despine()\n",
    "plot_data(data, ax)"
   ]
  },
  {
   "cell_type": "markdown",
   "metadata": {},
   "source": [
    "As a next step, we randomly initialize an encoder $q(z|x)$ and measure the compoments of the Test error for the untrained encoder. Usually most of the information is discarded and the latent OOD error is small."
   ]
  },
  {
   "cell_type": "code",
   "execution_count": 7,
   "metadata": {},
   "outputs": [
    {
     "name": "stdout",
     "output_type": "stream",
     "text": [
      "q(y|z)=p(y|z,t=1)\n",
      "Test error: 0.452377\n",
      "Latent Test error: 0.055034\n",
      "Test Infomation Loss: 0.397343\n"
     ]
    },
    {
     "data": {
      "image/png": "[encoded data removed]",
      "text/plain": [
       "<Figure size 432x288 with 1 Axes>"
      ]
     },
     "metadata": {},
     "output_type": "display_data"
    }
   ],
   "source": [
    "# Create an encoder which maps each 'x' into a latent 'z' which consists of 64 different values\n",
    "encoder = DiscreteEncoder(z_dim=64)\n",
    "\n",
    "# Define an classifier q(y|z)=p(y|z,\\t=1) that is optimal on training\n",
    "q_y_z = encoder(train_dist).conditional('y','z')\n",
    "latent_test_dist = encoder(test_dist).marginal(['y','z','x'])\n",
    "print('q(y|z)=%s' % q_y_z)\n",
    "\n",
    "# Compute the Test error of the model q(y|z)\n",
    "test_error = compute_kl(latent_test_dist, q_y_z, cond_1='x')\n",
    "print('Test error: %f' % test_error)\n",
    "\n",
    "# Compute the latent Test error of the model q(y|z)\n",
    "lat_test_error = compute_kl(latent_test_dist, q_y_z, cond_1='z')\n",
    "print('Latent Test error: %f' % lat_test_error)\n",
    "\n",
    "# Compute the amount of test information loss\n",
    "test_info_loss = encoder(test_dist).mi('y','x','z')\n",
    "print('Test Infomation Loss: %f' % test_info_loss)\n",
    "\n",
    "\n",
    "data.append({\n",
    "    'Model': 'Random', \n",
    "    'Latent Test error': lat_test_error.item(), \n",
    "    'Test Information Loss': test_info_loss.item()\n",
    "})\n",
    "\n",
    "\n",
    "f, ax = plt.subplots(1,1)\n",
    "plot_data(data, ax)\n",
    "sns.despine()\n"
   ]
  },
  {
   "cell_type": "markdown",
   "metadata": {},
   "source": [
    "The goal is to train the encoder $q(z|x)$ to minimize the Latent Test error while retaining maximal predictive information. We analyze different families of objectives in literature. Each of them present a loss in the form:\n",
    "$$\\mathcal{L}(\\lambda) = \\mathbb{E}_{t=1}[-\\log q(y|z)]+ \\lambda \\mathcal{R}(q(z|x)),$$\n",
    "in which the first term aims to maximize the amount of predictive information in the representation, while the second is a regularization term that aims to reduce the Latent Test error.\n",
    "The trade-off between the two objectives is regulated by the hyper-parameter $\\lambda$. Different regularization will be based on the observation of an environment variable $e$, which represents the factor(s) on which the selection is based on."
   ]
  },
  {
   "cell_type": "markdown",
   "metadata": {},
   "source": [
    "# Model Training\n",
    "\n",
    "Here we explore the effect of training a latent representation using the following criteria:\n",
    "- Independence $\\mathcal{R}(q(z|x))=I(e;z)$\n",
    "- Sufficiency $\\mathcal{R}(q(z|x))=I(e;y|z)$\n",
    "- Separation $\\mathcal{R}(q(z|x))=I(e;z|y)$"
   ]
  },
  {
   "cell_type": "markdown",
   "metadata": {},
   "source": [
    "## Independence Criterion\n",
    "\n",
    "We train the model using the regularization prescribed by the independence criterion until convergence"
   ]
  },
  {
   "cell_type": "code",
   "execution_count": 8,
   "metadata": {},
   "outputs": [],
   "source": [
    "from code.discrete_models.criteria import IndependenceCriterion\n",
    "from code.discrete_models.training import train\n",
    "\n",
    "# re-initialize the encoder\n",
    "encoder = DiscreteEncoder(z_dim=64)\n",
    "\n",
    "# Use the Independence criterion for training with a strong regularization $\\lambda=10^6$\n",
    "criterion = IndependenceCriterion(reg=1e6)\n",
    "\n",
    "# Train until convergence, logging train and test cross entropy\n",
    "logs = train(encoder, \n",
    "             criterion, \n",
    "             train_dist=train_dist.marginal(['x','y','e']), # train distribution\n",
    "             test_dist=test_dist.marginal(['x','y']),       # test distribution      \n",
    "             verbose=False)"
   ]
  },
  {
   "cell_type": "code",
   "execution_count": 9,
   "metadata": {},
   "outputs": [
    {
     "data": {
      "text/plain": [
       "<matplotlib.axes._subplots.AxesSubplot at 0x7faa14178280>"
      ]
     },
     "execution_count": 9,
     "metadata": {},
     "output_type": "execute_result"
    },
    {
     "data": {
      "image/png": "[encoded data removed]",
      "text/plain": [
       "<Figure size 432x288 with 1 Axes>"
      ]
     },
     "metadata": {},
     "output_type": "display_data"
    }
   ],
   "source": [
    "# Visualize the logs\n",
    "pd.DataFrame(logs).plot(x='iteration')"
   ]
  },
  {
   "cell_type": "markdown",
   "metadata": {},
   "source": [
    "We can compute the value of the regularization term $I(e;z)$ at the end of the training. One can notice that the independence constraint is correctly enforced on training but there is a small dependency left when considering the unselected (original) distribution."
   ]
  },
  {
   "cell_type": "code",
   "execution_count": 10,
   "metadata": {},
   "outputs": [
    {
     "name": "stdout",
     "output_type": "stream",
     "text": [
      "I(e;z|t=1) = 0.000000 nats\n",
      "I(e;z) = 0.003697 nats\n"
     ]
    }
   ],
   "source": [
    "# Compute the value of I(e;z) on for the trained model for the train distribution\n",
    "print('I(e;z|t=1) = %f nats' % encoder(train_dist).mi('e','z'))\n",
    "\n",
    "# Compute the value of I(e;z) on for the trained model\n",
    "print('I(e;z) = %f nats' % encoder(dist).mi('e','z'))"
   ]
  },
  {
   "cell_type": "markdown",
   "metadata": {},
   "source": [
    "We visualize the error compoments after convergence. Even if constraint is correctly enforced on train, the separation criterion does not result in minimal Test error"
   ]
  },
  {
   "cell_type": "code",
   "execution_count": 11,
   "metadata": {},
   "outputs": [
    {
     "name": "stdout",
     "output_type": "stream",
     "text": [
      "Test error: 0.421533\n",
      "Latent Test error: 0.035051\n",
      "Test Infomation Loss: 0.386482\n"
     ]
    },
    {
     "data": {
      "image/png": "[encoded data removed]",
      "text/plain": [
       "<Figure size 432x288 with 1 Axes>"
      ]
     },
     "metadata": {},
     "output_type": "display_data"
    }
   ],
   "source": [
    "q_y_z = encoder(train_dist).conditional('y','z')\n",
    "latent_test_dist = encoder(test_dist).marginal(['y','z','x'])\n",
    "\n",
    "# Compute the Test error of the model q(y|z)\n",
    "test_error = compute_kl(latent_test_dist, q_y_z, cond_1='x')\n",
    "print('Test error: %f' % test_error)\n",
    "\n",
    "# Compute the latent Test error of the model q(y|z)\n",
    "lat_test_error = compute_kl(latent_test_dist, q_y_z, cond_1='z')\n",
    "print('Latent Test error: %f' % lat_test_error)\n",
    "\n",
    "# Compute the amount of test information loss\n",
    "test_info_loss = encoder(test_dist).mi('y','x','z')\n",
    "print('Test Infomation Loss: %f' % test_info_loss)\n",
    "\n",
    "data.append({\n",
    "    'Model': 'Independence', \n",
    "    'Latent Test error': lat_test_error.item(), \n",
    "    'Test Information Loss': test_info_loss.item()\n",
    "})\n",
    "\n",
    "# Plot the results\n",
    "f, ax = plt.subplots(1,1)\n",
    "plot_data(data, ax)\n",
    "sns.despine()"
   ]
  },
  {
   "cell_type": "markdown",
   "metadata": {},
   "source": [
    "## Sufficiency Criterion"
   ]
  },
  {
   "cell_type": "markdown",
   "metadata": {},
   "source": [
    "We re-initialize the encoder and train it using the sufficiency criterion"
   ]
  },
  {
   "cell_type": "code",
   "execution_count": 12,
   "metadata": {},
   "outputs": [],
   "source": [
    "from code.discrete_models.criteria import SufficiencyCriterion\n",
    "\n",
    "# re-initialize the encoder\n",
    "encoder = DiscreteEncoder(z_dim=64)\n",
    "\n",
    "# Use the Sufficiency criterion for training with a strong regularization $\\lambda=10^6$\n",
    "criterion = SufficiencyCriterion(reg=1e6)\n",
    "\n",
    "# Train until convergence, logging train and test cross entropy\n",
    "logs = train(encoder, \n",
    "             criterion, \n",
    "             train_dist=train_dist.marginal(['x','y','e']), # train distribution\n",
    "             test_dist=test_dist.marginal(['x','y']),       # test distribution      \n",
    "             verbose=False)"
   ]
  },
  {
   "cell_type": "code",
   "execution_count": 13,
   "metadata": {},
   "outputs": [
    {
     "data": {
      "text/plain": [
       "<matplotlib.axes._subplots.AxesSubplot at 0x7faa117e1850>"
      ]
     },
     "execution_count": 13,
     "metadata": {},
     "output_type": "execute_result"
    },
    {
     "data": {
      "image/png": "[encoded data removed]",
      "text/plain": [
       "<Figure size 432x288 with 1 Axes>"
      ]
     },
     "metadata": {},
     "output_type": "display_data"
    }
   ],
   "source": [
    "# Visualize the logs\n",
    "pd.DataFrame(logs).plot(x='iteration')"
   ]
  },
  {
   "cell_type": "markdown",
   "metadata": {},
   "source": [
    "Note that despite the long training, the model is not able to create a representation that satisfies the sufficiency constraint $ I(e;y|z)=0 $ on training (such representation does not exist for the d-CMNIST dataset"
   ]
  },
  {
   "cell_type": "code",
   "execution_count": 14,
   "metadata": {},
   "outputs": [
    {
     "name": "stdout",
     "output_type": "stream",
     "text": [
      "I(e;y|z, t=1) = 0.034148\n",
      "I(e;y|z) = 0.133108\n"
     ]
    }
   ],
   "source": [
    "# Compute the value of I(e;z) on for the trained model for the train distribution\n",
    "print('I(e;y|z, t=1) = %f' % encoder(train_dist).mi('e','y','z'))\n",
    "\n",
    "# Compute the value of I(e;z) on for the trained model\n",
    "print('I(e;y|z) = %f' % encoder(dist).mi('e','y','z'))"
   ]
  },
  {
   "cell_type": "markdown",
   "metadata": {},
   "source": [
    "Once again the resulting model is not optimal in terms of Test error"
   ]
  },
  {
   "cell_type": "code",
   "execution_count": 15,
   "metadata": {},
   "outputs": [
    {
     "name": "stdout",
     "output_type": "stream",
     "text": [
      "Test error: 0.888182\n",
      "Latent Test error: 0.506294\n",
      "Test Infomation Loss: 0.381887\n"
     ]
    },
    {
     "data": {
      "image/png": "[encoded data removed]",
      "text/plain": [
       "<Figure size 432x288 with 1 Axes>"
      ]
     },
     "metadata": {},
     "output_type": "display_data"
    }
   ],
   "source": [
    "q_y_z = encoder(train_dist).conditional('y','z')\n",
    "latent_test_dist = encoder(test_dist).marginal(['y','z','x'])\n",
    "\n",
    "# Compute the Test error of the model q(y|z)\n",
    "test_error = compute_kl(latent_test_dist, q_y_z, cond_1='x')\n",
    "print('Test error: %f' % test_error)\n",
    "\n",
    "# Compute the latent Test error of the model q(y|z)\n",
    "lat_test_error = compute_kl(latent_test_dist, q_y_z, cond_1='z')\n",
    "print('Latent Test error: %f' % lat_test_error)\n",
    "\n",
    "# Compute the amount of test information loss\n",
    "test_info_loss = encoder(test_dist).mi('y','x','z')\n",
    "print('Test Infomation Loss: %f' % test_info_loss)\n",
    "\n",
    "data.append({\n",
    "    'Model': 'Sufficiency', \n",
    "    'Latent Test error': lat_test_error.item(), \n",
    "    'Test Information Loss': test_info_loss.item()\n",
    "})\n",
    "\n",
    "# Plot the results\n",
    "f, ax = plt.subplots(1,1)\n",
    "plot_data(data, ax)\n",
    "sns.despine()"
   ]
  },
  {
   "cell_type": "markdown",
   "metadata": {},
   "source": [
    "## Separation Criterion"
   ]
  },
  {
   "cell_type": "markdown",
   "metadata": {},
   "source": [
    "We repeat the same procedure by applying the separation criterion instead"
   ]
  },
  {
   "cell_type": "code",
   "execution_count": 16,
   "metadata": {},
   "outputs": [],
   "source": [
    "from code.discrete_models.criteria import SeparationCriterion\n",
    "\n",
    "# re-initialize the encoder\n",
    "encoder = DiscreteEncoder(z_dim=64)\n",
    "\n",
    "# Use the Sufficiency criterion for training with a strong regularization $\\lambda=10^6$\n",
    "criterion = SeparationCriterion(reg=1e6)\n",
    "\n",
    "# Train until convergence, logging train and test cross entropy\n",
    "logs = train(encoder, \n",
    "             criterion, \n",
    "             train_dist=train_dist.marginal(['x','y','e']), # train distribution\n",
    "             test_dist=test_dist.marginal(['x','y']),       # test distribution      \n",
    "             verbose=False)"
   ]
  },
  {
   "cell_type": "code",
   "execution_count": 17,
   "metadata": {},
   "outputs": [
    {
     "data": {
      "text/plain": [
       "<matplotlib.axes._subplots.AxesSubplot at 0x7faa11738670>"
      ]
     },
     "execution_count": 17,
     "metadata": {},
     "output_type": "execute_result"
    },
    {
     "data": {
      "image/png": "[encoded data removed]",
      "text/plain": [
       "<Figure size 432x288 with 1 Axes>"
      ]
     },
     "metadata": {},
     "output_type": "display_data"
    }
   ],
   "source": [
    "# Visualize the logs\n",
    "pd.DataFrame(logs).plot(x='iteration')"
   ]
  },
  {
   "cell_type": "markdown",
   "metadata": {},
   "source": [
    "Once again, we check if the model manages to enforce the separation constraint $I(e;z|y)=0$ for the overall (unselected) distribution"
   ]
  },
  {
   "cell_type": "code",
   "execution_count": 18,
   "metadata": {},
   "outputs": [
    {
     "name": "stdout",
     "output_type": "stream",
     "text": [
      "I(e;z|y, t=1) = -0.000000\n",
      "I(e;z|y) = -0.000000\n"
     ]
    }
   ],
   "source": [
    "# Compute the value of I(e;z) on for the trained model for the train distribution\n",
    "print('I(e;z|y, t=1) = %f' % encoder(train_dist).mi('e','z','y'))\n",
    "\n",
    "# Compute the value of I(e;z) on for the trained model\n",
    "print('I(e;z|y) = %f' % encoder(dist).mi('e','z','y'))"
   ]
  },
  {
   "cell_type": "markdown",
   "metadata": {},
   "source": [
    "The model that enforces the separation criterion is the only one that minimizes the overall OOD error on the y-CMNIST dataset"
   ]
  },
  {
   "cell_type": "code",
   "execution_count": 19,
   "metadata": {},
   "outputs": [
    {
     "name": "stdout",
     "output_type": "stream",
     "text": [
      "Test error: 0.285903\n",
      "Latent Test error: 0.000000\n",
      "Test Infomation Loss: 0.285903\n"
     ]
    },
    {
     "data": {
      "image/png": "[encoded data removed]",
      "text/plain": [
       "<Figure size 432x288 with 1 Axes>"
      ]
     },
     "metadata": {},
     "output_type": "display_data"
    }
   ],
   "source": [
    "q_y_z = encoder(train_dist).conditional('y','z')\n",
    "latent_test_dist = encoder(test_dist).marginal(['y','z','x'])\n",
    "\n",
    "# Compute the Test error of the model q(y|z)\n",
    "test_error = compute_kl(latent_test_dist, q_y_z, cond_1='x')\n",
    "print('Test error: %f' % test_error)\n",
    "\n",
    "# Compute the latent Test error of the model q(y|z)\n",
    "lat_test_error = compute_kl(latent_test_dist, q_y_z, cond_1='z')\n",
    "print('Latent Test error: %f' % lat_test_error)\n",
    "\n",
    "# Compute the amount of test information loss\n",
    "test_info_loss = encoder(test_dist).mi('y','x','z')\n",
    "print('Test Infomation Loss: %f' % test_info_loss)\n",
    "\n",
    "\n",
    "\n",
    "data.append({\n",
    "    'Model': 'Separation', \n",
    "    'Latent Test error': lat_test_error.item(), \n",
    "    'Test Information Loss': test_info_loss.item()\n",
    "})\n",
    "\n",
    "# Plot the results\n",
    "f, ax = plt.subplots(1,1)\n",
    "plot_data(data, ax)\n",
    "sns.despine()"
   ]
  },
  {
   "cell_type": "markdown",
   "metadata": {},
   "source": [
    "The other experiments reported in the paper can be repliated by changing the data-generating distribution reported at the beginning of this notebook"
   ]
  },
  {
   "cell_type": "code",
   "execution_count": null,
   "metadata": {},
   "outputs": [],
   "source": []
  }
 ],
 "metadata": {
  "kernelspec": {
   "display_name": "Python 3",
   "language": "python",
   "name": "python3"
  },
  "language_info": {
   "codemirror_mode": {
    "name": "ipython",
    "version": 3
   },
   "file_extension": ".py",
   "mimetype": "text/x-python",
   "name": "python",
   "nbconvert_exporter": "python",
   "pygments_lexer": "ipython3",
   "version": "3.8.1"
  }
 },
 "nbformat": 4,
 "nbformat_minor": 4
}
