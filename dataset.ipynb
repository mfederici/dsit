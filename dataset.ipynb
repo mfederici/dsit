{
 "cells": [
  {
   "cell_type": "code",
   "execution_count": 1,
   "metadata": {},
   "outputs": [
    {
     "name": "stdout",
     "output_type": "stream",
     "text": [
      "Populating the interactive namespace from numpy and matplotlib\n"
     ]
    }
   ],
   "source": [
    "%pylab inline\n",
    "\n",
    "from torch.utils.data import Dataset\n",
    "from torchvision.datasets import MNIST"
   ]
  },
  {
   "cell_type": "code",
   "execution_count": 2,
   "metadata": {},
   "outputs": [],
   "source": [
    "from src.data import CMNIST\n",
    "import torch"
   ]
  },
  {
   "cell_type": "code",
   "execution_count": 3,
   "metadata": {},
   "outputs": [],
   "source": [
    "data_root = '/data'\n",
    "\n",
    "# Instantiate the CMNIST dataset using the corresponding distribution ('CMNIST', 'd-CMNIST' or 'y-CMNIST')\n",
    "dataset = CMNIST(\n",
    "    root=data_root, \n",
    "    download=True, \n",
    "    split='train',\n",
    "    version='d-CMNIST',    # Specification of the name corresponding to the data-generating process\n",
    "    t=1,                   # Select the training environments (t=0) for test\n",
    "    sample_once=False      # Flag used to specify if each color, label and environmen should be sampled \n",
    "                           # only once or every time the same digit is sampled from the data loader.\n",
    ")"
   ]
  },
  {
   "cell_type": "code",
   "execution_count": 7,
   "metadata": {},
   "outputs": [
    {
     "data": {
      "image/png": "[encoded data removed]",
      "text/plain": [
       "<Figure size 720x144 with 5 Axes>"
      ]
     },
     "metadata": {
      "needs_background": "light"
     },
     "output_type": "display_data"
    }
   ],
   "source": [
    "# Visualizaitions of the samples\n",
    "n = 5\n",
    "f, ax = plt.subplots(1,n, figsize=(n*2,2))\n",
    "\n",
    "for i in range(n):\n",
    "    data = dataset[i]\n",
    "    ax[i].imshow(torch.cat([data['x'],torch.zeros(1,28,28)],0).permute(1,2,0))\n",
    "    ax[i].set_title('y: %d, e: %d'%(data['y'],data['e']), size=15)\n",
    "    ax[i].axis('off');"
   ]
  },
  {
   "cell_type": "code",
   "execution_count": null,
   "metadata": {},
   "outputs": [],
   "source": []
  }
 ],
 "metadata": {
  "kernelspec": {
   "display_name": "Python 3",
   "language": "python",
   "name": "python3"
  },
  "language_info": {
   "codemirror_mode": {
    "name": "ipython",
    "version": 3
   },
   "file_extension": ".py",
   "mimetype": "text/x-python",
   "name": "python",
   "nbconvert_exporter": "python",
   "pygments_lexer": "ipython3",
   "version": "3.8.1"
  }
 },
 "nbformat": 4,
 "nbformat_minor": 4
}
